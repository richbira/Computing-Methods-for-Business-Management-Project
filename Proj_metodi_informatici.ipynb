{
 "cells": [
  {
   "cell_type": "markdown",
   "metadata": {
    "id": "Ex_ClyMS384W"
   },
   "source": [
    "# Progetto di Metodi Informatici per la Gestione Aziendale"
   ]
  },
  {
   "cell_type": "markdown",
   "metadata": {
    "id": "aE16KL50384n"
   },
   "source": [
    "## Progetto base"
   ]
  },
  {
   "cell_type": "code",
   "execution_count": 10,
   "metadata": {
    "id": "vCCnR17X384p"
   },
   "outputs": [],
   "source": [
    "#!pip install pandas\n",
    "import pandas as pd\n",
    "import os\n",
    "import numpy as np"
   ]
  },
  {
   "cell_type": "markdown",
   "metadata": {
    "id": "oRveryNz384s"
   },
   "source": [
    "Importazione del dataset delle review:"
   ]
  },
  {
   "cell_type": "code",
   "execution_count": 11,
   "metadata": {
    "colab": {
     "base_uri": "https://localhost:8080/",
     "height": 338
    },
    "id": "jbc4VVYX384t",
    "outputId": "f84c0b94-f02f-42c4-ed1d-fea797e6b1c8"
   },
   "outputs": [],
   "source": [
    "import json\n",
    "\n",
    "data = []\n",
    "pwd = os.getcwd()\n",
    "if \"Richard\" in pwd:\n",
    "    file_path = '/Users/Richard/Desktop/Progetto Metodi aziendale/Proj_metodi_informatici/data/Books.jsonl'\n",
    "else:\n",
    "    file_path = '/Users/susannamau/Dev/metodi_informatici/Books.jsonl'\n",
    "with open(file_path, 'r') as f:\n",
    "    for i, line in enumerate(f):\n",
    "        if i == 1000:\n",
    "            break\n",
    "        data.append(json.loads(line))"
   ]
  },
  {
   "cell_type": "code",
   "execution_count": 12,
   "metadata": {
    "colab": {
     "base_uri": "https://localhost:8080/"
    },
    "id": "vEyuCj-h384v",
    "outputId": "fd14d6c6-dc70-4487-a60a-c90293158cf1"
   },
   "outputs": [
    {
     "data": {
      "text/plain": [
       "[{'rating': 5.0,\n",
       "  'title': 'Updated: after 1st arrived damaged this one is perfect',\n",
       "  'text': 'Updated: after first book arrived very damaged the replacement arrived in perfect condition.',\n",
       "  'images': [],\n",
       "  'asin': '0593235657',\n",
       "  'parent_asin': '0593235657',\n",
       "  'user_id': 'AFKZENTNBQ7A7V7UXW5JJI6UGRYQ',\n",
       "  'timestamp': 1640629604904,\n",
       "  'helpful_vote': 1,\n",
       "  'verified_purchase': True}]"
      ]
     },
     "execution_count": 12,
     "metadata": {},
     "output_type": "execute_result"
    }
   ],
   "source": [
    "data[1:2]"
   ]
  },
  {
   "cell_type": "markdown",
   "metadata": {},
   "source": [
    "Mi prendo i dati dello user"
   ]
  },
  {
   "cell_type": "markdown",
   "metadata": {
    "id": "4UPOqXQd384x"
   },
   "source": [
    "### 1. Analisi esplorativa (statistiche descrittive, analisi correlazione)\n",
    "To perform an exploratory analysis on this dataset, we perform the following steps:\n",
    "\n",
    "* Trasformazione del dataset in un dataframe Pandas,\n",
    "* Controllo delle informazioni di base del dataframe come il numero di righe, di colonne e i tipi delle variabili,\n",
    "* Controllo dei valori mancanti,\n",
    "* Statistiche descrittive delle variabili numeriche (rating e helpful_vote),\n",
    "* Visualizzazione dei dati."
   ]
  },
  {
   "cell_type": "markdown",
   "metadata": {
    "id": "B4M59LDT384y"
   },
   "source": [
    "Trasformazione in un dataframe Pandas:"
   ]
  },
  {
   "cell_type": "code",
   "execution_count": 13,
   "metadata": {
    "id": "u-dvjn8D384z",
    "outputId": "48cf5eef-6368-4002-bf51-79eb7fcaab70"
   },
   "outputs": [
    {
     "data": {
      "text/html": [
       "<div>\n",
       "<style scoped>\n",
       "    .dataframe tbody tr th:only-of-type {\n",
       "        vertical-align: middle;\n",
       "    }\n",
       "\n",
       "    .dataframe tbody tr th {\n",
       "        vertical-align: top;\n",
       "    }\n",
       "\n",
       "    .dataframe thead th {\n",
       "        text-align: right;\n",
       "    }\n",
       "</style>\n",
       "<table border=\"1\" class=\"dataframe\">\n",
       "  <thead>\n",
       "    <tr style=\"text-align: right;\">\n",
       "      <th></th>\n",
       "      <th>rating</th>\n",
       "      <th>title</th>\n",
       "      <th>text</th>\n",
       "      <th>images</th>\n",
       "      <th>asin</th>\n",
       "      <th>parent_asin</th>\n",
       "      <th>user_id</th>\n",
       "      <th>timestamp</th>\n",
       "      <th>helpful_vote</th>\n",
       "      <th>verified_purchase</th>\n",
       "    </tr>\n",
       "  </thead>\n",
       "  <tbody>\n",
       "    <tr>\n",
       "      <th>0</th>\n",
       "      <td>1.0</td>\n",
       "      <td>Not a watercolor book! Seems like copies imo.</td>\n",
       "      <td>It is definitely not a watercolor book.  The p...</td>\n",
       "      <td>[{'small_image_url': 'https://m.media-amazon.c...</td>\n",
       "      <td>B09BGPFTDB</td>\n",
       "      <td>B09BGPFTDB</td>\n",
       "      <td>AFKZENTNBQ7A7V7UXW5JJI6UGRYQ</td>\n",
       "      <td>1642399598485</td>\n",
       "      <td>0</td>\n",
       "      <td>True</td>\n",
       "    </tr>\n",
       "    <tr>\n",
       "      <th>1</th>\n",
       "      <td>5.0</td>\n",
       "      <td>Updated: after 1st arrived damaged this one is...</td>\n",
       "      <td>Updated: after first book arrived very damaged...</td>\n",
       "      <td>[]</td>\n",
       "      <td>0593235657</td>\n",
       "      <td>0593235657</td>\n",
       "      <td>AFKZENTNBQ7A7V7UXW5JJI6UGRYQ</td>\n",
       "      <td>1640629604904</td>\n",
       "      <td>1</td>\n",
       "      <td>True</td>\n",
       "    </tr>\n",
       "    <tr>\n",
       "      <th>2</th>\n",
       "      <td>5.0</td>\n",
       "      <td>Excellent! I love it!</td>\n",
       "      <td>I bought it for the bag on the front so it pai...</td>\n",
       "      <td>[]</td>\n",
       "      <td>1782490671</td>\n",
       "      <td>1782490671</td>\n",
       "      <td>AFKZENTNBQ7A7V7UXW5JJI6UGRYQ</td>\n",
       "      <td>1640383495102</td>\n",
       "      <td>0</td>\n",
       "      <td>True</td>\n",
       "    </tr>\n",
       "    <tr>\n",
       "      <th>3</th>\n",
       "      <td>5.0</td>\n",
       "      <td>Updated after 1st arrived damaged. Excellent</td>\n",
       "      <td>Updated: after 1st arrived damaged the replace...</td>\n",
       "      <td>[]</td>\n",
       "      <td>0593138228</td>\n",
       "      <td>0593138228</td>\n",
       "      <td>AFKZENTNBQ7A7V7UXW5JJI6UGRYQ</td>\n",
       "      <td>1640364906602</td>\n",
       "      <td>0</td>\n",
       "      <td>False</td>\n",
       "    </tr>\n",
       "    <tr>\n",
       "      <th>4</th>\n",
       "      <td>5.0</td>\n",
       "      <td>Beautiful patterns!</td>\n",
       "      <td>I love this book!  The patterns are lovely. I ...</td>\n",
       "      <td>[{'small_image_url': 'https://m.media-amazon.c...</td>\n",
       "      <td>0823098079</td>\n",
       "      <td>0823098079</td>\n",
       "      <td>AFKZENTNBQ7A7V7UXW5JJI6UGRYQ</td>\n",
       "      <td>1637312253230</td>\n",
       "      <td>0</td>\n",
       "      <td>True</td>\n",
       "    </tr>\n",
       "    <tr>\n",
       "      <th>...</th>\n",
       "      <td>...</td>\n",
       "      <td>...</td>\n",
       "      <td>...</td>\n",
       "      <td>...</td>\n",
       "      <td>...</td>\n",
       "      <td>...</td>\n",
       "      <td>...</td>\n",
       "      <td>...</td>\n",
       "      <td>...</td>\n",
       "      <td>...</td>\n",
       "    </tr>\n",
       "    <tr>\n",
       "      <th>995</th>\n",
       "      <td>5.0</td>\n",
       "      <td>A feast for body and soul</td>\n",
       "      <td>Based on Jan Karon's Mitford series, the Mitfo...</td>\n",
       "      <td>[]</td>\n",
       "      <td>B0017HZ0Y6</td>\n",
       "      <td>0670032395</td>\n",
       "      <td>AFW2PDT3AMT4X3PYQG7FJZH5FXFA</td>\n",
       "      <td>1245504975000</td>\n",
       "      <td>16</td>\n",
       "      <td>True</td>\n",
       "    </tr>\n",
       "    <tr>\n",
       "      <th>996</th>\n",
       "      <td>5.0</td>\n",
       "      <td>A beautiful, heartbreaking look at love and lo...</td>\n",
       "      <td>Mahbod Seraji's haunting \"Rooftops of Tehran\" ...</td>\n",
       "      <td>[]</td>\n",
       "      <td>045122681X</td>\n",
       "      <td>045122681X</td>\n",
       "      <td>AFW2PDT3AMT4X3PYQG7FJZH5FXFA</td>\n",
       "      <td>1245501300000</td>\n",
       "      <td>3</td>\n",
       "      <td>False</td>\n",
       "    </tr>\n",
       "    <tr>\n",
       "      <th>997</th>\n",
       "      <td>3.0</td>\n",
       "      <td>A fleeting, delicate tale as light as rosewater</td>\n",
       "      <td>In \"Rosewater and Soda Bread,\" Marsha Mehran's...</td>\n",
       "      <td>[]</td>\n",
       "      <td>081297249X</td>\n",
       "      <td>081297249X</td>\n",
       "      <td>AFW2PDT3AMT4X3PYQG7FJZH5FXFA</td>\n",
       "      <td>1245111599000</td>\n",
       "      <td>2</td>\n",
       "      <td>False</td>\n",
       "    </tr>\n",
       "    <tr>\n",
       "      <th>998</th>\n",
       "      <td>5.0</td>\n",
       "      <td>Hip, quirky, romantic tale of film noir</td>\n",
       "      <td>Ever felt like there's a nagging voice in your...</td>\n",
       "      <td>[]</td>\n",
       "      <td>0425218384</td>\n",
       "      <td>0425218384</td>\n",
       "      <td>AFW2PDT3AMT4X3PYQG7FJZH5FXFA</td>\n",
       "      <td>1244860930000</td>\n",
       "      <td>1</td>\n",
       "      <td>False</td>\n",
       "    </tr>\n",
       "    <tr>\n",
       "      <th>999</th>\n",
       "      <td>4.0</td>\n",
       "      <td>La Dolce Vita  isn't all it's cracked up to be...</td>\n",
       "      <td>Fashion-conscious Kelly expects her study abro...</td>\n",
       "      <td>[]</td>\n",
       "      <td>0142404144</td>\n",
       "      <td>0142404144</td>\n",
       "      <td>AFW2PDT3AMT4X3PYQG7FJZH5FXFA</td>\n",
       "      <td>1243722563000</td>\n",
       "      <td>0</td>\n",
       "      <td>False</td>\n",
       "    </tr>\n",
       "  </tbody>\n",
       "</table>\n",
       "<p>1000 rows × 10 columns</p>\n",
       "</div>"
      ],
      "text/plain": [
       "     rating                                              title  \\\n",
       "0       1.0      Not a watercolor book! Seems like copies imo.   \n",
       "1       5.0  Updated: after 1st arrived damaged this one is...   \n",
       "2       5.0                              Excellent! I love it!   \n",
       "3       5.0       Updated after 1st arrived damaged. Excellent   \n",
       "4       5.0                                Beautiful patterns!   \n",
       "..      ...                                                ...   \n",
       "995     5.0                          A feast for body and soul   \n",
       "996     5.0  A beautiful, heartbreaking look at love and lo...   \n",
       "997     3.0    A fleeting, delicate tale as light as rosewater   \n",
       "998     5.0            Hip, quirky, romantic tale of film noir   \n",
       "999     4.0  La Dolce Vita  isn't all it's cracked up to be...   \n",
       "\n",
       "                                                  text  \\\n",
       "0    It is definitely not a watercolor book.  The p...   \n",
       "1    Updated: after first book arrived very damaged...   \n",
       "2    I bought it for the bag on the front so it pai...   \n",
       "3    Updated: after 1st arrived damaged the replace...   \n",
       "4    I love this book!  The patterns are lovely. I ...   \n",
       "..                                                 ...   \n",
       "995  Based on Jan Karon's Mitford series, the Mitfo...   \n",
       "996  Mahbod Seraji's haunting \"Rooftops of Tehran\" ...   \n",
       "997  In \"Rosewater and Soda Bread,\" Marsha Mehran's...   \n",
       "998  Ever felt like there's a nagging voice in your...   \n",
       "999  Fashion-conscious Kelly expects her study abro...   \n",
       "\n",
       "                                                images        asin  \\\n",
       "0    [{'small_image_url': 'https://m.media-amazon.c...  B09BGPFTDB   \n",
       "1                                                   []  0593235657   \n",
       "2                                                   []  1782490671   \n",
       "3                                                   []  0593138228   \n",
       "4    [{'small_image_url': 'https://m.media-amazon.c...  0823098079   \n",
       "..                                                 ...         ...   \n",
       "995                                                 []  B0017HZ0Y6   \n",
       "996                                                 []  045122681X   \n",
       "997                                                 []  081297249X   \n",
       "998                                                 []  0425218384   \n",
       "999                                                 []  0142404144   \n",
       "\n",
       "    parent_asin                       user_id      timestamp  helpful_vote  \\\n",
       "0    B09BGPFTDB  AFKZENTNBQ7A7V7UXW5JJI6UGRYQ  1642399598485             0   \n",
       "1    0593235657  AFKZENTNBQ7A7V7UXW5JJI6UGRYQ  1640629604904             1   \n",
       "2    1782490671  AFKZENTNBQ7A7V7UXW5JJI6UGRYQ  1640383495102             0   \n",
       "3    0593138228  AFKZENTNBQ7A7V7UXW5JJI6UGRYQ  1640364906602             0   \n",
       "4    0823098079  AFKZENTNBQ7A7V7UXW5JJI6UGRYQ  1637312253230             0   \n",
       "..          ...                           ...            ...           ...   \n",
       "995  0670032395  AFW2PDT3AMT4X3PYQG7FJZH5FXFA  1245504975000            16   \n",
       "996  045122681X  AFW2PDT3AMT4X3PYQG7FJZH5FXFA  1245501300000             3   \n",
       "997  081297249X  AFW2PDT3AMT4X3PYQG7FJZH5FXFA  1245111599000             2   \n",
       "998  0425218384  AFW2PDT3AMT4X3PYQG7FJZH5FXFA  1244860930000             1   \n",
       "999  0142404144  AFW2PDT3AMT4X3PYQG7FJZH5FXFA  1243722563000             0   \n",
       "\n",
       "     verified_purchase  \n",
       "0                 True  \n",
       "1                 True  \n",
       "2                 True  \n",
       "3                False  \n",
       "4                 True  \n",
       "..                 ...  \n",
       "995               True  \n",
       "996              False  \n",
       "997              False  \n",
       "998              False  \n",
       "999              False  \n",
       "\n",
       "[1000 rows x 10 columns]"
      ]
     },
     "execution_count": 13,
     "metadata": {},
     "output_type": "execute_result"
    }
   ],
   "source": [
    "df = pd.DataFrame(data)\n",
    "df.head()\n",
    "df"
   ]
  },
  {
   "cell_type": "markdown",
   "metadata": {
    "id": "RO0drJHY3840"
   },
   "source": [
    "Ho importato le prime 1000 righe perché il file intero era troppo pesante. Ci sono 10 colonne che rappresentano:\n",
    " * Rating (float): rating of the product (from 1.0 to 5.0). It will be transformed in a categorical variable,\n",
    "* Title\t(str) : title of the user review,\n",
    "* Text (str): text body of the user review,\n",
    "* Images (list): images that users post after they have received the product. Each image has different sizes (small, medium, large), represented by the small_image_url, medium_image_url, and large_image_url respectively,\n",
    "* asin (str): ID of the product,\n",
    "* parent_asin (str): parent ID of the product,\n",
    "* user_id (str): ID of the reviewer,\n",
    "* timestamp (int): time of the review (unix time),\n",
    "* verified_purchase (boolean): user purchase verification,\n",
    "* helpful_vote (int): helpful votes of the review."
   ]
  },
  {
   "cell_type": "code",
   "execution_count": 14,
   "metadata": {
    "colab": {
     "base_uri": "https://localhost:8080/",
     "height": 141
    },
    "id": "0QbZiLMa3841",
    "outputId": "06835184-22e9-4ce6-e984-08dba513ab0c"
   },
   "outputs": [],
   "source": [
    "df['rating'] = df['rating'].astype('int')"
   ]
  },
  {
   "cell_type": "markdown",
   "metadata": {
    "id": "Mxqi-Pl-3842"
   },
   "source": [
    "Alcune statistiche descrittive delle variabili numeriche del dataset. Le statistiche descrittive su timestamp sono poco informative a causa della natura della variabile."
   ]
  },
  {
   "cell_type": "code",
   "execution_count": 15,
   "metadata": {
    "id": "De-0cUsJ3842",
    "outputId": "ac3070ae-6341-4d4d-90d4-88810717b876"
   },
   "outputs": [
    {
     "data": {
      "text/html": [
       "<div>\n",
       "<style scoped>\n",
       "    .dataframe tbody tr th:only-of-type {\n",
       "        vertical-align: middle;\n",
       "    }\n",
       "\n",
       "    .dataframe tbody tr th {\n",
       "        vertical-align: top;\n",
       "    }\n",
       "\n",
       "    .dataframe thead th {\n",
       "        text-align: right;\n",
       "    }\n",
       "</style>\n",
       "<table border=\"1\" class=\"dataframe\">\n",
       "  <thead>\n",
       "    <tr style=\"text-align: right;\">\n",
       "      <th></th>\n",
       "      <th>rating</th>\n",
       "      <th>timestamp</th>\n",
       "      <th>helpful_vote</th>\n",
       "    </tr>\n",
       "  </thead>\n",
       "  <tbody>\n",
       "    <tr>\n",
       "      <th>count</th>\n",
       "      <td>1000.000000</td>\n",
       "      <td>1.000000e+03</td>\n",
       "      <td>1000.000000</td>\n",
       "    </tr>\n",
       "    <tr>\n",
       "      <th>mean</th>\n",
       "      <td>4.477000</td>\n",
       "      <td>1.477203e+12</td>\n",
       "      <td>4.032000</td>\n",
       "    </tr>\n",
       "    <tr>\n",
       "      <th>std</th>\n",
       "      <td>0.948879</td>\n",
       "      <td>1.116759e+11</td>\n",
       "      <td>15.863563</td>\n",
       "    </tr>\n",
       "    <tr>\n",
       "      <th>min</th>\n",
       "      <td>1.000000</td>\n",
       "      <td>1.129661e+12</td>\n",
       "      <td>0.000000</td>\n",
       "    </tr>\n",
       "    <tr>\n",
       "      <th>25%</th>\n",
       "      <td>4.000000</td>\n",
       "      <td>1.403895e+12</td>\n",
       "      <td>0.000000</td>\n",
       "    </tr>\n",
       "    <tr>\n",
       "      <th>50%</th>\n",
       "      <td>5.000000</td>\n",
       "      <td>1.480937e+12</td>\n",
       "      <td>0.000000</td>\n",
       "    </tr>\n",
       "    <tr>\n",
       "      <th>75%</th>\n",
       "      <td>5.000000</td>\n",
       "      <td>1.561830e+12</td>\n",
       "      <td>2.000000</td>\n",
       "    </tr>\n",
       "    <tr>\n",
       "      <th>max</th>\n",
       "      <td>5.000000</td>\n",
       "      <td>1.678065e+12</td>\n",
       "      <td>330.000000</td>\n",
       "    </tr>\n",
       "  </tbody>\n",
       "</table>\n",
       "</div>"
      ],
      "text/plain": [
       "            rating     timestamp  helpful_vote\n",
       "count  1000.000000  1.000000e+03   1000.000000\n",
       "mean      4.477000  1.477203e+12      4.032000\n",
       "std       0.948879  1.116759e+11     15.863563\n",
       "min       1.000000  1.129661e+12      0.000000\n",
       "25%       4.000000  1.403895e+12      0.000000\n",
       "50%       5.000000  1.480937e+12      0.000000\n",
       "75%       5.000000  1.561830e+12      2.000000\n",
       "max       5.000000  1.678065e+12    330.000000"
      ]
     },
     "execution_count": 15,
     "metadata": {},
     "output_type": "execute_result"
    }
   ],
   "source": [
    "df.describe()"
   ]
  },
  {
   "cell_type": "markdown",
   "metadata": {
    "id": "BFs-aEJI3844"
   },
   "source": [
    "Mentre la variabile rating è molto sbilanciata verso sinistra (più della metà delle osservazioni hanno rating 5), la variabile helpful_vote è molto sbilanciata verso destra (più della metà delle osservazioni hanno valore 0)."
   ]
  },
  {
   "cell_type": "markdown",
   "metadata": {
    "id": "spNnH3P33844"
   },
   "source": [
    "Conteggio di quante reviews ci sono per ogni codice prodotto (asin) e del rating medio:"
   ]
  },
  {
   "cell_type": "code",
   "execution_count": 16,
   "metadata": {
    "id": "sJaORB183845",
    "outputId": "d8016f07-5394-495e-ef99-23a09a26c77a"
   },
   "outputs": [
    {
     "data": {
      "text/html": [
       "<div>\n",
       "<style scoped>\n",
       "    .dataframe tbody tr th:only-of-type {\n",
       "        vertical-align: middle;\n",
       "    }\n",
       "\n",
       "    .dataframe tbody tr th {\n",
       "        vertical-align: top;\n",
       "    }\n",
       "\n",
       "    .dataframe thead th {\n",
       "        text-align: right;\n",
       "    }\n",
       "</style>\n",
       "<table border=\"1\" class=\"dataframe\">\n",
       "  <thead>\n",
       "    <tr style=\"text-align: right;\">\n",
       "      <th></th>\n",
       "      <th>number_of_reviews</th>\n",
       "      <th>average_rating</th>\n",
       "    </tr>\n",
       "    <tr>\n",
       "      <th>asin</th>\n",
       "      <th></th>\n",
       "      <th></th>\n",
       "    </tr>\n",
       "  </thead>\n",
       "  <tbody>\n",
       "    <tr>\n",
       "      <th>1741799953</th>\n",
       "      <td>2</td>\n",
       "      <td>4.0</td>\n",
       "    </tr>\n",
       "    <tr>\n",
       "      <th>0547636474</th>\n",
       "      <td>2</td>\n",
       "      <td>4.5</td>\n",
       "    </tr>\n",
       "    <tr>\n",
       "      <th>1454710179</th>\n",
       "      <td>2</td>\n",
       "      <td>5.0</td>\n",
       "    </tr>\n",
       "    <tr>\n",
       "      <th>B00K7MCE3C</th>\n",
       "      <td>2</td>\n",
       "      <td>4.5</td>\n",
       "    </tr>\n",
       "    <tr>\n",
       "      <th>1578563232</th>\n",
       "      <td>2</td>\n",
       "      <td>5.0</td>\n",
       "    </tr>\n",
       "  </tbody>\n",
       "</table>\n",
       "</div>"
      ],
      "text/plain": [
       "            number_of_reviews  average_rating\n",
       "asin                                         \n",
       "1741799953                  2             4.0\n",
       "0547636474                  2             4.5\n",
       "1454710179                  2             5.0\n",
       "B00K7MCE3C                  2             4.5\n",
       "1578563232                  2             5.0"
      ]
     },
     "execution_count": 16,
     "metadata": {},
     "output_type": "execute_result"
    }
   ],
   "source": [
    "df_grouped = df.groupby('asin').agg(number_of_reviews = pd.NamedAgg(column='asin', aggfunc='count'),\n",
    "                                    average_rating = pd.NamedAgg(column='rating', aggfunc='mean')).sort_values(by='number_of_reviews', ascending=False)\n",
    "df_grouped.head()"
   ]
  },
  {
   "cell_type": "markdown",
   "metadata": {
    "id": "Bejjlhyl3845"
   },
   "source": [
    "Conteggio dei valori mancanti:"
   ]
  },
  {
   "cell_type": "code",
   "execution_count": 17,
   "metadata": {
    "id": "jqSEiD7x3845",
    "outputId": "54a7259e-702e-43e5-dd03-1baf17ed0f7b"
   },
   "outputs": [
    {
     "name": "stdout",
     "output_type": "stream",
     "text": [
      "rating               0\n",
      "title                0\n",
      "text                 0\n",
      "images               0\n",
      "asin                 0\n",
      "parent_asin          0\n",
      "user_id              0\n",
      "timestamp            0\n",
      "helpful_vote         0\n",
      "verified_purchase    0\n",
      "dtype: int64\n"
     ]
    }
   ],
   "source": [
    "missing_values = df.isnull().sum()\n",
    "print(missing_values)"
   ]
  },
  {
   "cell_type": "markdown",
   "metadata": {
    "id": "Hib21bHQ3846"
   },
   "source": [
    "Nelle osservazioni importate non ci sono valori mancanti."
   ]
  },
  {
   "cell_type": "markdown",
   "metadata": {
    "id": "4O6ZTaC93846"
   },
   "source": [
    "Visualizzazione della distribuzione dei ratings:"
   ]
  },
  {
   "cell_type": "code",
   "execution_count": 18,
   "metadata": {
    "id": "mMZvsVrk3846",
    "outputId": "34afa713-86c9-4ab2-ad0e-c2dfcd17b27a"
   },
   "outputs": [
    {
     "data": {
      "image/png": "[encoded data removed]",
      "text/plain": [
       "<Figure size 640x480 with 1 Axes>"
      ]
     },
     "metadata": {},
     "output_type": "display_data"
    }
   ],
   "source": [
    "#!pip install seaborn\n",
    "import seaborn as sns\n",
    "import matplotlib.pyplot as plt\n",
    "\n",
    "sns.countplot(x='rating', data=df)\n",
    "plt.title('Distribution of Ratings')\n",
    "plt.xlabel('Rating')\n",
    "plt.ylabel('Frequency')\n",
    "plt.show()"
   ]
  },
  {
   "cell_type": "markdown",
   "metadata": {
    "id": "EJzObCjb3847"
   },
   "source": [
    "La distribuzione dei ratings è asimmetrica negativa: le osservazioni con rating 5 sono molto più frequenti di quelle con punteggi inferiori."
   ]
  },
  {
   "cell_type": "code",
   "execution_count": 19,
   "metadata": {
    "id": "6_cPiCXF3847",
    "outputId": "9161d10b-3880-41a8-c4d5-a43cbac70ba0"
   },
   "outputs": [
    {
     "data": {
      "image/png": "[encoded data removed]",
      "text/plain": [
       "<Figure size 640x480 with 1 Axes>"
      ]
     },
     "metadata": {},
     "output_type": "display_data"
    }
   ],
   "source": [
    "sns.countplot(x='helpful_vote', data=df)\n",
    "plt.title('Distribution of Helpful_vote')\n",
    "plt.xlabel('helpful_vote')\n",
    "plt.ylabel('Frequency')\n",
    "plt.show()"
   ]
  },
  {
   "cell_type": "markdown",
   "metadata": {
    "id": "6tz1pQ9z3848"
   },
   "source": [
    "La distribuzione è asimmetrica positiva, con uno sbilanciamento importante verso destra."
   ]
  },
  {
   "cell_type": "markdown",
   "metadata": {
    "id": "B7Co3BWg3848"
   },
   "source": [
    "### 2. Identificazione della configurazione ottimale dell’algoritmo K-NN per la predizione dei rating\n",
    "In questo punto dovranno quindi essere testate le diverse combinazioni: similarità, valore di K, user/item based. Tramite le diverse metriche di performance (MSE e RMSE) individuare di conseguenza la configurazione ottimale."
   ]
  },
  {
   "cell_type": "code",
   "execution_count": 20,
   "metadata": {},
   "outputs": [
    {
     "data": {
      "text/plain": [
       "Index(['rating', 'title', 'text', 'images', 'asin', 'parent_asin', 'user_id',\n",
       "       'timestamp', 'helpful_vote', 'verified_purchase'],\n",
       "      dtype='object')"
      ]
     },
     "execution_count": 20,
     "metadata": {},
     "output_type": "execute_result"
    }
   ],
   "source": [
    "df.columns #guardo le colonne di df che contiene le informazioni della tabella User"
   ]
  },
  {
   "cell_type": "markdown",
   "metadata": {},
   "source": [
    "Creo la matrice User-Books\n",
    "righe -> Utenti\n",
    "colonne -> Libri con il loro codice\n",
    "valore cella -> Rating dell'utente per il libro"
   ]
  },
  {
   "cell_type": "code",
   "execution_count": 17,
   "metadata": {},
   "outputs": [],
   "source": [
    "user_item_matrix = df.pivot_table(index='user_id', columns='asin', values='rating', aggfunc='mean').fillna(0)"
   ]
  },
  {
   "cell_type": "code",
   "execution_count": 36,
   "metadata": {},
   "outputs": [
    {
     "data": {
      "text/html": [
       "<div>\n",
       "<style scoped>\n",
       "    .dataframe tbody tr th:only-of-type {\n",
       "        vertical-align: middle;\n",
       "    }\n",
       "\n",
       "    .dataframe tbody tr th {\n",
       "        vertical-align: top;\n",
       "    }\n",
       "\n",
       "    .dataframe thead th {\n",
       "        text-align: right;\n",
       "    }\n",
       "</style>\n",
       "<table border=\"1\" class=\"dataframe\">\n",
       "  <thead>\n",
       "    <tr style=\"text-align: right;\">\n",
       "      <th>asin</th>\n",
       "      <th>0008119090</th>\n",
       "      <th>0060663723</th>\n",
       "      <th>0060734000</th>\n",
       "      <th>0060835575</th>\n",
       "      <th>0061148989</th>\n",
       "      <th>0061284416</th>\n",
       "      <th>0061375837</th>\n",
       "      <th>0061688592</th>\n",
       "      <th>0061688649</th>\n",
       "      <th>0061713244</th>\n",
       "      <th>...</th>\n",
       "      <th>B09F1JCGWB</th>\n",
       "      <th>B09HQKGZJY</th>\n",
       "      <th>B09JBKMY5W</th>\n",
       "      <th>B09M5LJYLT</th>\n",
       "      <th>B09NRDSSC7</th>\n",
       "      <th>B09SBNT62Z</th>\n",
       "      <th>B09TX1HS1Y</th>\n",
       "      <th>B09YVRPXC3</th>\n",
       "      <th>B0BB5Z9DM9</th>\n",
       "      <th>B0BQ5C8H2C</th>\n",
       "    </tr>\n",
       "    <tr>\n",
       "      <th>user_id</th>\n",
       "      <th></th>\n",
       "      <th></th>\n",
       "      <th></th>\n",
       "      <th></th>\n",
       "      <th></th>\n",
       "      <th></th>\n",
       "      <th></th>\n",
       "      <th></th>\n",
       "      <th></th>\n",
       "      <th></th>\n",
       "      <th></th>\n",
       "      <th></th>\n",
       "      <th></th>\n",
       "      <th></th>\n",
       "      <th></th>\n",
       "      <th></th>\n",
       "      <th></th>\n",
       "      <th></th>\n",
       "      <th></th>\n",
       "      <th></th>\n",
       "      <th></th>\n",
       "    </tr>\n",
       "  </thead>\n",
       "  <tbody>\n",
       "    <tr>\n",
       "      <th>AE2TA5GQH4JI5RQ4W5H5PQOVYBGA</th>\n",
       "      <td>0</td>\n",
       "      <td>0</td>\n",
       "      <td>0</td>\n",
       "      <td>0</td>\n",
       "      <td>0</td>\n",
       "      <td>0</td>\n",
       "      <td>0</td>\n",
       "      <td>0</td>\n",
       "      <td>0</td>\n",
       "      <td>0</td>\n",
       "      <td>...</td>\n",
       "      <td>0</td>\n",
       "      <td>0</td>\n",
       "      <td>0</td>\n",
       "      <td>0</td>\n",
       "      <td>0</td>\n",
       "      <td>0</td>\n",
       "      <td>0</td>\n",
       "      <td>0</td>\n",
       "      <td>0</td>\n",
       "      <td>0</td>\n",
       "    </tr>\n",
       "    <tr>\n",
       "      <th>AE3ZEVN65B3MWKIBLFRBGMJDGJCA</th>\n",
       "      <td>0</td>\n",
       "      <td>0</td>\n",
       "      <td>0</td>\n",
       "      <td>0</td>\n",
       "      <td>0</td>\n",
       "      <td>0</td>\n",
       "      <td>0</td>\n",
       "      <td>0</td>\n",
       "      <td>0</td>\n",
       "      <td>0</td>\n",
       "      <td>...</td>\n",
       "      <td>0</td>\n",
       "      <td>0</td>\n",
       "      <td>0</td>\n",
       "      <td>0</td>\n",
       "      <td>0</td>\n",
       "      <td>0</td>\n",
       "      <td>0</td>\n",
       "      <td>0</td>\n",
       "      <td>0</td>\n",
       "      <td>0</td>\n",
       "    </tr>\n",
       "    <tr>\n",
       "      <th>AE4KVNO5P6N6SP6CQTZTIDHEAWFQ</th>\n",
       "      <td>0</td>\n",
       "      <td>0</td>\n",
       "      <td>0</td>\n",
       "      <td>0</td>\n",
       "      <td>0</td>\n",
       "      <td>0</td>\n",
       "      <td>0</td>\n",
       "      <td>0</td>\n",
       "      <td>0</td>\n",
       "      <td>0</td>\n",
       "      <td>...</td>\n",
       "      <td>0</td>\n",
       "      <td>0</td>\n",
       "      <td>0</td>\n",
       "      <td>0</td>\n",
       "      <td>0</td>\n",
       "      <td>0</td>\n",
       "      <td>0</td>\n",
       "      <td>0</td>\n",
       "      <td>0</td>\n",
       "      <td>0</td>\n",
       "    </tr>\n",
       "    <tr>\n",
       "      <th>AE74DYR3QUGVPZJ3P7RFWBGIX7XQ</th>\n",
       "      <td>0</td>\n",
       "      <td>0</td>\n",
       "      <td>0</td>\n",
       "      <td>0</td>\n",
       "      <td>0</td>\n",
       "      <td>0</td>\n",
       "      <td>0</td>\n",
       "      <td>0</td>\n",
       "      <td>0</td>\n",
       "      <td>0</td>\n",
       "      <td>...</td>\n",
       "      <td>0</td>\n",
       "      <td>0</td>\n",
       "      <td>0</td>\n",
       "      <td>0</td>\n",
       "      <td>0</td>\n",
       "      <td>0</td>\n",
       "      <td>0</td>\n",
       "      <td>0</td>\n",
       "      <td>0</td>\n",
       "      <td>0</td>\n",
       "    </tr>\n",
       "    <tr>\n",
       "      <th>AE7Y5RLYIKHOZB5NKKOEKYG2SPSQ</th>\n",
       "      <td>0</td>\n",
       "      <td>0</td>\n",
       "      <td>0</td>\n",
       "      <td>0</td>\n",
       "      <td>0</td>\n",
       "      <td>0</td>\n",
       "      <td>0</td>\n",
       "      <td>0</td>\n",
       "      <td>0</td>\n",
       "      <td>0</td>\n",
       "      <td>...</td>\n",
       "      <td>0</td>\n",
       "      <td>0</td>\n",
       "      <td>0</td>\n",
       "      <td>0</td>\n",
       "      <td>0</td>\n",
       "      <td>0</td>\n",
       "      <td>0</td>\n",
       "      <td>0</td>\n",
       "      <td>0</td>\n",
       "      <td>0</td>\n",
       "    </tr>\n",
       "    <tr>\n",
       "      <th>...</th>\n",
       "      <td>...</td>\n",
       "      <td>...</td>\n",
       "      <td>...</td>\n",
       "      <td>...</td>\n",
       "      <td>...</td>\n",
       "      <td>...</td>\n",
       "      <td>...</td>\n",
       "      <td>...</td>\n",
       "      <td>...</td>\n",
       "      <td>...</td>\n",
       "      <td>...</td>\n",
       "      <td>...</td>\n",
       "      <td>...</td>\n",
       "      <td>...</td>\n",
       "      <td>...</td>\n",
       "      <td>...</td>\n",
       "      <td>...</td>\n",
       "      <td>...</td>\n",
       "      <td>...</td>\n",
       "      <td>...</td>\n",
       "      <td>...</td>\n",
       "    </tr>\n",
       "    <tr>\n",
       "      <th>AHX4XWVVQUKT3FCNWCVASDF4Q56Q</th>\n",
       "      <td>0</td>\n",
       "      <td>0</td>\n",
       "      <td>0</td>\n",
       "      <td>0</td>\n",
       "      <td>0</td>\n",
       "      <td>0</td>\n",
       "      <td>0</td>\n",
       "      <td>0</td>\n",
       "      <td>0</td>\n",
       "      <td>0</td>\n",
       "      <td>...</td>\n",
       "      <td>0</td>\n",
       "      <td>0</td>\n",
       "      <td>0</td>\n",
       "      <td>0</td>\n",
       "      <td>0</td>\n",
       "      <td>0</td>\n",
       "      <td>0</td>\n",
       "      <td>0</td>\n",
       "      <td>0</td>\n",
       "      <td>0</td>\n",
       "    </tr>\n",
       "    <tr>\n",
       "      <th>AHXBL3QDWZGJYH7A5CMPFNUPMF7Q</th>\n",
       "      <td>0</td>\n",
       "      <td>0</td>\n",
       "      <td>0</td>\n",
       "      <td>0</td>\n",
       "      <td>0</td>\n",
       "      <td>0</td>\n",
       "      <td>0</td>\n",
       "      <td>0</td>\n",
       "      <td>0</td>\n",
       "      <td>0</td>\n",
       "      <td>...</td>\n",
       "      <td>0</td>\n",
       "      <td>0</td>\n",
       "      <td>0</td>\n",
       "      <td>0</td>\n",
       "      <td>0</td>\n",
       "      <td>0</td>\n",
       "      <td>0</td>\n",
       "      <td>0</td>\n",
       "      <td>0</td>\n",
       "      <td>0</td>\n",
       "    </tr>\n",
       "    <tr>\n",
       "      <th>AHY55PORR7VYL72JBUYNSO6KCA5A</th>\n",
       "      <td>0</td>\n",
       "      <td>0</td>\n",
       "      <td>0</td>\n",
       "      <td>0</td>\n",
       "      <td>0</td>\n",
       "      <td>0</td>\n",
       "      <td>0</td>\n",
       "      <td>0</td>\n",
       "      <td>0</td>\n",
       "      <td>0</td>\n",
       "      <td>...</td>\n",
       "      <td>0</td>\n",
       "      <td>0</td>\n",
       "      <td>0</td>\n",
       "      <td>0</td>\n",
       "      <td>0</td>\n",
       "      <td>0</td>\n",
       "      <td>0</td>\n",
       "      <td>0</td>\n",
       "      <td>0</td>\n",
       "      <td>0</td>\n",
       "    </tr>\n",
       "    <tr>\n",
       "      <th>AHZ4WODDQMLDMFH2X4QHJAMRJCTA</th>\n",
       "      <td>0</td>\n",
       "      <td>0</td>\n",
       "      <td>0</td>\n",
       "      <td>0</td>\n",
       "      <td>0</td>\n",
       "      <td>0</td>\n",
       "      <td>0</td>\n",
       "      <td>0</td>\n",
       "      <td>0</td>\n",
       "      <td>0</td>\n",
       "      <td>...</td>\n",
       "      <td>0</td>\n",
       "      <td>0</td>\n",
       "      <td>0</td>\n",
       "      <td>0</td>\n",
       "      <td>0</td>\n",
       "      <td>0</td>\n",
       "      <td>0</td>\n",
       "      <td>0</td>\n",
       "      <td>5</td>\n",
       "      <td>0</td>\n",
       "    </tr>\n",
       "    <tr>\n",
       "      <th>AHZ6XMOLEWA67S3TX7IWEXXGWSOA</th>\n",
       "      <td>0</td>\n",
       "      <td>0</td>\n",
       "      <td>0</td>\n",
       "      <td>0</td>\n",
       "      <td>0</td>\n",
       "      <td>0</td>\n",
       "      <td>0</td>\n",
       "      <td>0</td>\n",
       "      <td>0</td>\n",
       "      <td>0</td>\n",
       "      <td>...</td>\n",
       "      <td>0</td>\n",
       "      <td>0</td>\n",
       "      <td>0</td>\n",
       "      <td>0</td>\n",
       "      <td>0</td>\n",
       "      <td>0</td>\n",
       "      <td>0</td>\n",
       "      <td>0</td>\n",
       "      <td>0</td>\n",
       "      <td>0</td>\n",
       "    </tr>\n",
       "  </tbody>\n",
       "</table>\n",
       "<p>154 rows × 993 columns</p>\n",
       "</div>"
      ],
      "text/plain": [
       "asin                          0008119090  0060663723  0060734000  0060835575  \\\n",
       "user_id                                                                        \n",
       "AE2TA5GQH4JI5RQ4W5H5PQOVYBGA           0           0           0           0   \n",
       "AE3ZEVN65B3MWKIBLFRBGMJDGJCA           0           0           0           0   \n",
       "AE4KVNO5P6N6SP6CQTZTIDHEAWFQ           0           0           0           0   \n",
       "AE74DYR3QUGVPZJ3P7RFWBGIX7XQ           0           0           0           0   \n",
       "AE7Y5RLYIKHOZB5NKKOEKYG2SPSQ           0           0           0           0   \n",
       "...                                  ...         ...         ...         ...   \n",
       "AHX4XWVVQUKT3FCNWCVASDF4Q56Q           0           0           0           0   \n",
       "AHXBL3QDWZGJYH7A5CMPFNUPMF7Q           0           0           0           0   \n",
       "AHY55PORR7VYL72JBUYNSO6KCA5A           0           0           0           0   \n",
       "AHZ4WODDQMLDMFH2X4QHJAMRJCTA           0           0           0           0   \n",
       "AHZ6XMOLEWA67S3TX7IWEXXGWSOA           0           0           0           0   \n",
       "\n",
       "asin                          0061148989  0061284416  0061375837  0061688592  \\\n",
       "user_id                                                                        \n",
       "AE2TA5GQH4JI5RQ4W5H5PQOVYBGA           0           0           0           0   \n",
       "AE3ZEVN65B3MWKIBLFRBGMJDGJCA           0           0           0           0   \n",
       "AE4KVNO5P6N6SP6CQTZTIDHEAWFQ           0           0           0           0   \n",
       "AE74DYR3QUGVPZJ3P7RFWBGIX7XQ           0           0           0           0   \n",
       "AE7Y5RLYIKHOZB5NKKOEKYG2SPSQ           0           0           0           0   \n",
       "...                                  ...         ...         ...         ...   \n",
       "AHX4XWVVQUKT3FCNWCVASDF4Q56Q           0           0           0           0   \n",
       "AHXBL3QDWZGJYH7A5CMPFNUPMF7Q           0           0           0           0   \n",
       "AHY55PORR7VYL72JBUYNSO6KCA5A           0           0           0           0   \n",
       "AHZ4WODDQMLDMFH2X4QHJAMRJCTA           0           0           0           0   \n",
       "AHZ6XMOLEWA67S3TX7IWEXXGWSOA           0           0           0           0   \n",
       "\n",
       "asin                          0061688649  0061713244  ...  B09F1JCGWB  \\\n",
       "user_id                                               ...               \n",
       "AE2TA5GQH4JI5RQ4W5H5PQOVYBGA           0           0  ...           0   \n",
       "AE3ZEVN65B3MWKIBLFRBGMJDGJCA           0           0  ...           0   \n",
       "AE4KVNO5P6N6SP6CQTZTIDHEAWFQ           0           0  ...           0   \n",
       "AE74DYR3QUGVPZJ3P7RFWBGIX7XQ           0           0  ...           0   \n",
       "AE7Y5RLYIKHOZB5NKKOEKYG2SPSQ           0           0  ...           0   \n",
       "...                                  ...         ...  ...         ...   \n",
       "AHX4XWVVQUKT3FCNWCVASDF4Q56Q           0           0  ...           0   \n",
       "AHXBL3QDWZGJYH7A5CMPFNUPMF7Q           0           0  ...           0   \n",
       "AHY55PORR7VYL72JBUYNSO6KCA5A           0           0  ...           0   \n",
       "AHZ4WODDQMLDMFH2X4QHJAMRJCTA           0           0  ...           0   \n",
       "AHZ6XMOLEWA67S3TX7IWEXXGWSOA           0           0  ...           0   \n",
       "\n",
       "asin                          B09HQKGZJY  B09JBKMY5W  B09M5LJYLT  B09NRDSSC7  \\\n",
       "user_id                                                                        \n",
       "AE2TA5GQH4JI5RQ4W5H5PQOVYBGA           0           0           0           0   \n",
       "AE3ZEVN65B3MWKIBLFRBGMJDGJCA           0           0           0           0   \n",
       "AE4KVNO5P6N6SP6CQTZTIDHEAWFQ           0           0           0           0   \n",
       "AE74DYR3QUGVPZJ3P7RFWBGIX7XQ           0           0           0           0   \n",
       "AE7Y5RLYIKHOZB5NKKOEKYG2SPSQ           0           0           0           0   \n",
       "...                                  ...         ...         ...         ...   \n",
       "AHX4XWVVQUKT3FCNWCVASDF4Q56Q           0           0           0           0   \n",
       "AHXBL3QDWZGJYH7A5CMPFNUPMF7Q           0           0           0           0   \n",
       "AHY55PORR7VYL72JBUYNSO6KCA5A           0           0           0           0   \n",
       "AHZ4WODDQMLDMFH2X4QHJAMRJCTA           0           0           0           0   \n",
       "AHZ6XMOLEWA67S3TX7IWEXXGWSOA           0           0           0           0   \n",
       "\n",
       "asin                          B09SBNT62Z  B09TX1HS1Y  B09YVRPXC3  B0BB5Z9DM9  \\\n",
       "user_id                                                                        \n",
       "AE2TA5GQH4JI5RQ4W5H5PQOVYBGA           0           0           0           0   \n",
       "AE3ZEVN65B3MWKIBLFRBGMJDGJCA           0           0           0           0   \n",
       "AE4KVNO5P6N6SP6CQTZTIDHEAWFQ           0           0           0           0   \n",
       "AE74DYR3QUGVPZJ3P7RFWBGIX7XQ           0           0           0           0   \n",
       "AE7Y5RLYIKHOZB5NKKOEKYG2SPSQ           0           0           0           0   \n",
       "...                                  ...         ...         ...         ...   \n",
       "AHX4XWVVQUKT3FCNWCVASDF4Q56Q           0           0           0           0   \n",
       "AHXBL3QDWZGJYH7A5CMPFNUPMF7Q           0           0           0           0   \n",
       "AHY55PORR7VYL72JBUYNSO6KCA5A           0           0           0           0   \n",
       "AHZ4WODDQMLDMFH2X4QHJAMRJCTA           0           0           0           5   \n",
       "AHZ6XMOLEWA67S3TX7IWEXXGWSOA           0           0           0           0   \n",
       "\n",
       "asin                          B0BQ5C8H2C  \n",
       "user_id                                   \n",
       "AE2TA5GQH4JI5RQ4W5H5PQOVYBGA           0  \n",
       "AE3ZEVN65B3MWKIBLFRBGMJDGJCA           0  \n",
       "AE4KVNO5P6N6SP6CQTZTIDHEAWFQ           0  \n",
       "AE74DYR3QUGVPZJ3P7RFWBGIX7XQ           0  \n",
       "AE7Y5RLYIKHOZB5NKKOEKYG2SPSQ           0  \n",
       "...                                  ...  \n",
       "AHX4XWVVQUKT3FCNWCVASDF4Q56Q           0  \n",
       "AHXBL3QDWZGJYH7A5CMPFNUPMF7Q           0  \n",
       "AHY55PORR7VYL72JBUYNSO6KCA5A           0  \n",
       "AHZ4WODDQMLDMFH2X4QHJAMRJCTA           0  \n",
       "AHZ6XMOLEWA67S3TX7IWEXXGWSOA           0  \n",
       "\n",
       "[154 rows x 993 columns]"
      ]
     },
     "execution_count": 36,
     "metadata": {},
     "output_type": "execute_result"
    }
   ],
   "source": [
    "user_item_matrix = user_item_matrix.astype(int)\n",
    "user_item_matrix"
   ]
  },
  {
   "cell_type": "markdown",
   "metadata": {},
   "source": [
    " # PROBABILMENTE QUESTA PARTE E' SBAGLIATA"
   ]
  },
  {
   "cell_type": "markdown",
   "metadata": {},
   "source": [
    "🔮 Rating Prediction with k-NN\n",
    "\n",
    "Now that we have a way to compare movies, we can predict the ratings using k-NN:\n",
    "\n",
    "Step 1: Find similarity scores between the movie and all the movies the user rated.\n",
    "Step 2: Sort and choose top k nearest neighbors of the movie.\n",
    "Step 3: Take the weighted average and predict the ratings."
   ]
  },
  {
   "cell_type": "code",
   "execution_count": 19,
   "metadata": {},
   "outputs": [
    {
     "data": {
      "text/html": [
       "<style>#sk-container-id-1 {color: black;background-color: white;}#sk-container-id-1 pre{padding: 0;}#sk-container-id-1 div.sk-toggleable {background-color: white;}#sk-container-id-1 label.sk-toggleable__label {cursor: pointer;display: block;width: 100%;margin-bottom: 0;padding: 0.3em;box-sizing: border-box;text-align: center;}#sk-container-id-1 label.sk-toggleable__label-arrow:before {content: \"▸\";float: left;margin-right: 0.25em;color: #696969;}#sk-container-id-1 label.sk-toggleable__label-arrow:hover:before {color: black;}#sk-container-id-1 div.sk-estimator:hover label.sk-toggleable__label-arrow:before {color: black;}#sk-container-id-1 div.sk-toggleable__content {max-height: 0;max-width: 0;overflow: hidden;text-align: left;background-color: #f0f8ff;}#sk-container-id-1 div.sk-toggleable__content pre {margin: 0.2em;color: black;border-radius: 0.25em;background-color: #f0f8ff;}#sk-container-id-1 input.sk-toggleable__control:checked~div.sk-toggleable__content {max-height: 200px;max-width: 100%;overflow: auto;}#sk-container-id-1 input.sk-toggleable__control:checked~label.sk-toggleable__label-arrow:before {content: \"▾\";}#sk-container-id-1 div.sk-estimator input.sk-toggleable__control:checked~label.sk-toggleable__label {background-color: #d4ebff;}#sk-container-id-1 div.sk-label input.sk-toggleable__control:checked~label.sk-toggleable__label {background-color: #d4ebff;}#sk-container-id-1 input.sk-hidden--visually {border: 0;clip: rect(1px 1px 1px 1px);clip: rect(1px, 1px, 1px, 1px);height: 1px;margin: -1px;overflow: hidden;padding: 0;position: absolute;width: 1px;}#sk-container-id-1 div.sk-estimator {font-family: monospace;background-color: #f0f8ff;border: 1px dotted black;border-radius: 0.25em;box-sizing: border-box;margin-bottom: 0.5em;}#sk-container-id-1 div.sk-estimator:hover {background-color: #d4ebff;}#sk-container-id-1 div.sk-parallel-item::after {content: \"\";width: 100%;border-bottom: 1px solid gray;flex-grow: 1;}#sk-container-id-1 div.sk-label:hover label.sk-toggleable__label {background-color: #d4ebff;}#sk-container-id-1 div.sk-serial::before {content: \"\";position: absolute;border-left: 1px solid gray;box-sizing: border-box;top: 0;bottom: 0;left: 50%;z-index: 0;}#sk-container-id-1 div.sk-serial {display: flex;flex-direction: column;align-items: center;background-color: white;padding-right: 0.2em;padding-left: 0.2em;position: relative;}#sk-container-id-1 div.sk-item {position: relative;z-index: 1;}#sk-container-id-1 div.sk-parallel {display: flex;align-items: stretch;justify-content: center;background-color: white;position: relative;}#sk-container-id-1 div.sk-item::before, #sk-container-id-1 div.sk-parallel-item::before {content: \"\";position: absolute;border-left: 1px solid gray;box-sizing: border-box;top: 0;bottom: 0;left: 50%;z-index: -1;}#sk-container-id-1 div.sk-parallel-item {display: flex;flex-direction: column;z-index: 1;position: relative;background-color: white;}#sk-container-id-1 div.sk-parallel-item:first-child::after {align-self: flex-end;width: 50%;}#sk-container-id-1 div.sk-parallel-item:last-child::after {align-self: flex-start;width: 50%;}#sk-container-id-1 div.sk-parallel-item:only-child::after {width: 0;}#sk-container-id-1 div.sk-dashed-wrapped {border: 1px dashed gray;margin: 0 0.4em 0.5em 0.4em;box-sizing: border-box;padding-bottom: 0.4em;background-color: white;}#sk-container-id-1 div.sk-label label {font-family: monospace;font-weight: bold;display: inline-block;line-height: 1.2em;}#sk-container-id-1 div.sk-label-container {text-align: center;}#sk-container-id-1 div.sk-container {/* jupyter's `normalize.less` sets `[hidden] { display: none; }` but bootstrap.min.css set `[hidden] { display: none !important; }` so we also need the `!important` here to be able to override the default hidden behavior on the sphinx rendered scikit-learn.org. See: https://github.com/scikit-learn/scikit-learn/issues/21755 */display: inline-block !important;position: relative;}#sk-container-id-1 div.sk-text-repr-fallback {display: none;}</style><div id=\"sk-container-id-1\" class=\"sk-top-container\"><div class=\"sk-text-repr-fallback\"><pre>NearestNeighbors(algorithm=&#x27;brute&#x27;, metric=&#x27;cosine&#x27;)</pre><b>In a Jupyter environment, please rerun this cell to show the HTML representation or trust the notebook. <br />On GitHub, the HTML representation is unable to render, please try loading this page with nbviewer.org.</b></div><div class=\"sk-container\" hidden><div class=\"sk-item\"><div class=\"sk-estimator sk-toggleable\"><input class=\"sk-toggleable__control sk-hidden--visually\" id=\"sk-estimator-id-1\" type=\"checkbox\" checked><label for=\"sk-estimator-id-1\" class=\"sk-toggleable__label sk-toggleable__label-arrow\">NearestNeighbors</label><div class=\"sk-toggleable__content\"><pre>NearestNeighbors(algorithm=&#x27;brute&#x27;, metric=&#x27;cosine&#x27;)</pre></div></div></div></div></div>"
      ],
      "text/plain": [
       "NearestNeighbors(algorithm='brute', metric='cosine')"
      ]
     },
     "execution_count": 19,
     "metadata": {},
     "output_type": "execute_result"
    }
   ],
   "source": [
    "from sklearn.neighbors import NearestNeighbors\n",
    "model_knn = NearestNeighbors(metric='cosine', algorithm='brute')\n",
    "model_knn.fit(user_item_matrix)"
   ]
  },
  {
   "cell_type": "code",
   "execution_count": 22,
   "metadata": {},
   "outputs": [
    {
     "data": {
      "text/plain": [
       "131"
      ]
     },
     "execution_count": 22,
     "metadata": {},
     "output_type": "execute_result"
    }
   ],
   "source": [
    "query_index = np.random.choice(user_item_matrix.shape[0]) # Selezioni un user_id a caso\n",
    "query_index"
   ]
  },
  {
   "cell_type": "code",
   "execution_count": 25,
   "metadata": {},
   "outputs": [
    {
     "data": {
      "text/plain": [
       "'AHGAOIZVODNHYMNCBV4DECZH42UQ'"
      ]
     },
     "execution_count": 25,
     "metadata": {},
     "output_type": "execute_result"
    }
   ],
   "source": [
    "user = user_item_matrix.index[query_index] # stampo user_id selezionato\n",
    "user"
   ]
  },
  {
   "cell_type": "code",
   "execution_count": null,
   "metadata": {},
   "outputs": [],
   "source": [
    "book_voted = df[ df['user_id'] == user] # book voted by user\n",
    "book_voted"
   ]
  },
  {
   "cell_type": "code",
   "execution_count": 27,
   "metadata": {},
   "outputs": [
    {
     "name": "stderr",
     "output_type": "stream",
     "text": [
      "E:\\anaconda\\Lib\\site-packages\\sklearn\\base.py:439: UserWarning: X does not have valid feature names, but NearestNeighbors was fitted with feature names\n",
      "  warnings.warn(\n"
     ]
    }
   ],
   "source": [
    "# trovo i quali sono gli utenti simili a quello selezionato\n",
    "distances, indices = model_knn.kneighbors(user_item_matrix.iloc[query_index,:].values.reshape(1,-1), n_neighbors = 20) \n"
   ]
  },
  {
   "cell_type": "code",
   "execution_count": 28,
   "metadata": {},
   "outputs": [
    {
     "name": "stdout",
     "output_type": "stream",
     "text": [
      "Recommendation for AHGAOIZVODNHYMNCBV4DECZH42UQ:\n",
      "\n",
      "1: AGHWZRZY7UYGZAYBZ2JADLTCSKKQ, with distance of 1.0\n",
      "2: AGI5WCODFNNY5MKGED2667RA4ZAA, with distance of 1.0\n",
      "3: AGIF4RXMGYGGOETIN7H7SHI2HTGA, with distance of 1.0\n",
      "4: AGJ2JO45F52FXDSPOGK3PKXU5OKA, with distance of 1.0\n",
      "5: AGJSTXSEWFVQWVQINO6QKMNBUUNA, with distance of 1.0\n",
      "6: AGKASBHYZPGTEPO6LWZPVJWB2BVA, with distance of 1.0\n",
      "7: AGKFRCDY4WBW4RH6GFYFJ3T3XBSA, with distance of 1.0\n",
      "8: AGKHLEW2SOWHNMFQIJGBECAF7INQ, with distance of 1.0\n",
      "9: AGLQDDJTHRGIY4KWEXLA3YBD47PQ, with distance of 1.0\n",
      "10: AGOWLR52GJKEQ6ARUX5V6TJP7QLA, with distance of 1.0\n",
      "11: AGPBYMEVZKTYSCLNSN4YDADOIIKQ, with distance of 1.0\n",
      "12: AGPR2UDFIJJCBA3EKFEEAJBWKROQ, with distance of 1.0\n",
      "13: AGPXNVE7IY3QVMN7YKKUQT3BPHUQ, with distance of 1.0\n",
      "14: AGQ2BWZLHY4WKCNHD3WDWAFF45CQ, with distance of 1.0\n",
      "15: AGTP4V3GFJ3YGVKDYXDK3SJ5IAYA, with distance of 1.0\n",
      "16: AGU7O3UW7U2UMZGSZMKNZ6K6VHUA, with distance of 1.0\n",
      "17: AGGZ357AO26RQZVRLGU4D4N52DZQ, with distance of 1.0\n",
      "18: AGVVUU3QRQBHNASSGI5YQLPYOI2Q, with distance of 1.0\n",
      "19: AGHRYSZV6QNKV7QEXWFLIQUJ232A, with distance of 1.0\n"
     ]
    }
   ],
   "source": [
    "for i in range(0, len(distances.flatten())):\n",
    "    if i == 0:\n",
    "        print(f'Recommendation for {user_item_matrix.index[query_index]}:\\n')\n",
    "    else:\n",
    "        print(f'{i}: {user_item_matrix.index[indices.flatten()[i]]}, with distance of {distances.flatten()[i]}')\n"
   ]
  },
  {
   "cell_type": "markdown",
   "metadata": {},
   "source": [
    "Test tra i risultati"
   ]
  },
  {
   "cell_type": "code",
   "execution_count": 42,
   "metadata": {},
   "outputs": [],
   "source": [
    "def cos_sim(a, b):\n",
    "  \"\"\"\n",
    "  Compute the cosine similarity between two vectors.\n",
    "\n",
    "  :param a: ndarray (n_features, )\n",
    "  :param b: ndarray (n_features, )\n",
    "  \"\"\"\n",
    "  return np.dot(a, b) / (np.linalg.norm(a) * np.linalg.norm(b))\n",
    "    # np.dot(a, b) -> prodotto scalare tra putno a e b / norma a * norma b"
   ]
  },
  {
   "cell_type": "code",
   "execution_count": 45,
   "metadata": {},
   "outputs": [
    {
     "name": "stdout",
     "output_type": "stream",
     "text": [
      "0.0\n"
     ]
    }
   ],
   "source": [
    "# Assuming user_item_matrix is your DataFrame and 'user_id' is the index\n",
    "first = user_item_matrix.loc['AGHWZRZY7UYGZAYBZ2JADLTCSKKQ'].values\n",
    "second = user_item_matrix.loc['AHGAOIZVODNHYMNCBV4DECZH42UQ'].values\n",
    "\n",
    "print(cos_sim(first,second))\n",
    "\n"
   ]
  },
  {
   "cell_type": "markdown",
   "metadata": {},
   "source": [
    " # FINE PARTE SBAGLIATA"
   ]
  },
  {
   "cell_type": "markdown",
   "metadata": {},
   "source": [
    " # Collaborative Filter"
   ]
  },
  {
   "cell_type": "code",
   "execution_count": 33,
   "metadata": {},
   "outputs": [
    {
     "name": "stdout",
     "output_type": "stream",
     "text": [
      "Requirement already satisfied: scikit-surprise in e:\\anaconda\\lib\\site-packages (1.1.4)\n",
      "Requirement already satisfied: joblib>=1.2.0 in e:\\anaconda\\lib\\site-packages (from scikit-surprise) (1.2.0)\n",
      "Requirement already satisfied: numpy>=1.19.5 in e:\\anaconda\\lib\\site-packages (from scikit-surprise) (1.26.4)\n",
      "Requirement already satisfied: scipy>=1.6.0 in e:\\anaconda\\lib\\site-packages (from scikit-surprise) (1.11.4)\n",
      "Note: you may need to restart the kernel to use updated packages.\n"
     ]
    },
    {
     "name": "stderr",
     "output_type": "stream",
     "text": [
      "\n",
      "[notice] A new release of pip is available: 23.3.2 -> 24.0\n",
      "[notice] To update, run: E:\\anaconda\\python.exe -m pip install --upgrade pip\n"
     ]
    }
   ],
   "source": [
    "pip install scikit-surprise"
   ]
  },
  {
   "cell_type": "code",
   "execution_count": 34,
   "metadata": {},
   "outputs": [],
   "source": [
    "from surprise import Dataset, Reader"
   ]
  },
  {
   "cell_type": "code",
   "execution_count": 62,
   "metadata": {},
   "outputs": [],
   "source": [
    "# Convert the pandas DataFrame into surprise dataset format\n",
    "reader = Reader(rating_scale=(1, 5))\n",
    "dataset_surprise = Dataset.load_from_df(rating_matrix[['user_id', 'asin', 'rating']], reader)"
   ]
  },
  {
   "cell_type": "code",
   "execution_count": 63,
   "metadata": {},
   "outputs": [
    {
     "data": {
      "text/html": [
       "<div>\n",
       "<style scoped>\n",
       "    .dataframe tbody tr th:only-of-type {\n",
       "        vertical-align: middle;\n",
       "    }\n",
       "\n",
       "    .dataframe tbody tr th {\n",
       "        vertical-align: top;\n",
       "    }\n",
       "\n",
       "    .dataframe thead th {\n",
       "        text-align: right;\n",
       "    }\n",
       "</style>\n",
       "<table border=\"1\" class=\"dataframe\">\n",
       "  <thead>\n",
       "    <tr style=\"text-align: right;\">\n",
       "      <th></th>\n",
       "      <th>user_id</th>\n",
       "      <th>asin</th>\n",
       "      <th>rating</th>\n",
       "    </tr>\n",
       "  </thead>\n",
       "  <tbody>\n",
       "    <tr>\n",
       "      <th>0</th>\n",
       "      <td>AFKZENTNBQ7A7V7UXW5JJI6UGRYQ</td>\n",
       "      <td>B09BGPFTDB</td>\n",
       "      <td>1</td>\n",
       "    </tr>\n",
       "    <tr>\n",
       "      <th>1</th>\n",
       "      <td>AFKZENTNBQ7A7V7UXW5JJI6UGRYQ</td>\n",
       "      <td>0593235657</td>\n",
       "      <td>5</td>\n",
       "    </tr>\n",
       "    <tr>\n",
       "      <th>2</th>\n",
       "      <td>AFKZENTNBQ7A7V7UXW5JJI6UGRYQ</td>\n",
       "      <td>1782490671</td>\n",
       "      <td>5</td>\n",
       "    </tr>\n",
       "    <tr>\n",
       "      <th>3</th>\n",
       "      <td>AFKZENTNBQ7A7V7UXW5JJI6UGRYQ</td>\n",
       "      <td>0593138228</td>\n",
       "      <td>5</td>\n",
       "    </tr>\n",
       "    <tr>\n",
       "      <th>4</th>\n",
       "      <td>AFKZENTNBQ7A7V7UXW5JJI6UGRYQ</td>\n",
       "      <td>0823098079</td>\n",
       "      <td>5</td>\n",
       "    </tr>\n",
       "    <tr>\n",
       "      <th>...</th>\n",
       "      <td>...</td>\n",
       "      <td>...</td>\n",
       "      <td>...</td>\n",
       "    </tr>\n",
       "    <tr>\n",
       "      <th>995</th>\n",
       "      <td>AFW2PDT3AMT4X3PYQG7FJZH5FXFA</td>\n",
       "      <td>B0017HZ0Y6</td>\n",
       "      <td>5</td>\n",
       "    </tr>\n",
       "    <tr>\n",
       "      <th>996</th>\n",
       "      <td>AFW2PDT3AMT4X3PYQG7FJZH5FXFA</td>\n",
       "      <td>045122681X</td>\n",
       "      <td>5</td>\n",
       "    </tr>\n",
       "    <tr>\n",
       "      <th>997</th>\n",
       "      <td>AFW2PDT3AMT4X3PYQG7FJZH5FXFA</td>\n",
       "      <td>081297249X</td>\n",
       "      <td>3</td>\n",
       "    </tr>\n",
       "    <tr>\n",
       "      <th>998</th>\n",
       "      <td>AFW2PDT3AMT4X3PYQG7FJZH5FXFA</td>\n",
       "      <td>0425218384</td>\n",
       "      <td>5</td>\n",
       "    </tr>\n",
       "    <tr>\n",
       "      <th>999</th>\n",
       "      <td>AFW2PDT3AMT4X3PYQG7FJZH5FXFA</td>\n",
       "      <td>0142404144</td>\n",
       "      <td>4</td>\n",
       "    </tr>\n",
       "  </tbody>\n",
       "</table>\n",
       "<p>1000 rows × 3 columns</p>\n",
       "</div>"
      ],
      "text/plain": [
       "                          user_id        asin  rating\n",
       "0    AFKZENTNBQ7A7V7UXW5JJI6UGRYQ  B09BGPFTDB       1\n",
       "1    AFKZENTNBQ7A7V7UXW5JJI6UGRYQ  0593235657       5\n",
       "2    AFKZENTNBQ7A7V7UXW5JJI6UGRYQ  1782490671       5\n",
       "3    AFKZENTNBQ7A7V7UXW5JJI6UGRYQ  0593138228       5\n",
       "4    AFKZENTNBQ7A7V7UXW5JJI6UGRYQ  0823098079       5\n",
       "..                            ...         ...     ...\n",
       "995  AFW2PDT3AMT4X3PYQG7FJZH5FXFA  B0017HZ0Y6       5\n",
       "996  AFW2PDT3AMT4X3PYQG7FJZH5FXFA  045122681X       5\n",
       "997  AFW2PDT3AMT4X3PYQG7FJZH5FXFA  081297249X       3\n",
       "998  AFW2PDT3AMT4X3PYQG7FJZH5FXFA  0425218384       5\n",
       "999  AFW2PDT3AMT4X3PYQG7FJZH5FXFA  0142404144       4\n",
       "\n",
       "[1000 rows x 3 columns]"
      ]
     },
     "execution_count": 63,
     "metadata": {},
     "output_type": "execute_result"
    }
   ],
   "source": [
    "rating_matrix = df[['user_id', 'asin', 'rating']]\n",
    "rating_matrix"
   ]
  },
  {
   "cell_type": "code",
   "execution_count": 37,
   "metadata": {},
   "outputs": [],
   "source": [
    "from surprise import accuracy, KNNBasic\n",
    "from surprise import model_selection"
   ]
  },
  {
   "cell_type": "code",
   "execution_count": 38,
   "metadata": {},
   "outputs": [],
   "source": [
    "# Initialize the algorithm\n",
    "algo = KNNBasic()"
   ]
  },
  {
   "cell_type": "code",
   "execution_count": 39,
   "metadata": {},
   "outputs": [],
   "source": [
    "# Split the dataset into train and test set\n",
    "trainset, testset = model_selection.train_test_split(dataset_surprise, test_size=0.2, random_state=0)"
   ]
  },
  {
   "cell_type": "code",
   "execution_count": 40,
   "metadata": {},
   "outputs": [
    {
     "name": "stdout",
     "output_type": "stream",
     "text": [
      "Computing the msd similarity matrix...\n",
      "Done computing similarity matrix.\n",
      "MSE: 0.9490\n",
      "RMSE: 0.9742\n"
     ]
    }
   ],
   "source": [
    "# Train and test the algorithm\n",
    "algo.fit(trainset)\n",
    "predictions = algo.test(testset)\n",
    "# Compute metrics\n",
    "mse = accuracy.mse(predictions)\n",
    "rmse = accuracy.rmse(predictions)"
   ]
  },
  {
   "cell_type": "code",
   "execution_count": 41,
   "metadata": {},
   "outputs": [
    {
     "name": "stdout",
     "output_type": "stream",
     "text": [
      "user: AFKZENTNBQ7A7V7UXW5JJI6UGRYQ item: 0593235657 r_ui = 3.00   est = 5.00   {'actual_k': 1, 'was_impossible': False}\n"
     ]
    }
   ],
   "source": [
    "# Get a prediction for specific users and items.\n",
    "uid = 'AFKZENTNBQ7A7V7UXW5JJI6UGRYQ'\n",
    "iid = '0593235657'\n",
    "pred = algo.predict(uid, iid, r_ui=3, verbose=True)\n"
   ]
  },
  {
   "cell_type": "code",
   "execution_count": null,
   "metadata": {},
   "outputs": [],
   "source": [
    "#r_ui è il rating reale\n",
    "#est è il valore predetto dal modello\n",
    "#actual_k n° di neighbors più prossimi (k) che sono stati effettivamente utilizzati per calcolare la stima del rating.\n",
    "#'was_impossible': False -> Se è possibile o meno fare previsione: True -> impossibile, False -> possibileS"
   ]
  },
  {
   "cell_type": "code",
   "execution_count": 45,
   "metadata": {},
   "outputs": [
    {
     "name": "stdout",
     "output_type": "stream",
     "text": [
      "Computing the cosine similarity matrix...\n",
      "Done computing similarity matrix.\n",
      "Computing the cosine similarity matrix...\n",
      "Done computing similarity matrix.\n",
      "Computing the cosine similarity matrix...\n",
      "Done computing similarity matrix.\n",
      "Sim: cosine, K: 5, User-Based: True, RMSE: 0.9471446681804595, MSE: 0.9104979574794102\n",
      "Computing the cosine similarity matrix...\n",
      "Done computing similarity matrix.\n",
      "Computing the cosine similarity matrix...\n",
      "Done computing similarity matrix.\n",
      "Computing the cosine similarity matrix...\n",
      "Done computing similarity matrix.\n",
      "Sim: cosine, K: 5, User-Based: False, RMSE: 0.9484506059899106, MSE: 0.9009069768065153\n",
      "Computing the cosine similarity matrix...\n",
      "Done computing similarity matrix.\n",
      "Computing the cosine similarity matrix...\n",
      "Done computing similarity matrix.\n",
      "Computing the cosine similarity matrix...\n",
      "Done computing similarity matrix.\n",
      "Sim: cosine, K: 10, User-Based: True, RMSE: 0.9481400640042069, MSE: 0.9011102041437659\n",
      "Computing the cosine similarity matrix...\n",
      "Done computing similarity matrix.\n",
      "Computing the cosine similarity matrix...\n",
      "Done computing similarity matrix.\n",
      "Computing the cosine similarity matrix...\n",
      "Done computing similarity matrix.\n",
      "Sim: cosine, K: 10, User-Based: False, RMSE: 0.9486607024000714, MSE: 0.9033586131579933\n",
      "Computing the cosine similarity matrix...\n",
      "Done computing similarity matrix.\n",
      "Computing the cosine similarity matrix...\n",
      "Done computing similarity matrix.\n",
      "Computing the cosine similarity matrix...\n",
      "Done computing similarity matrix.\n",
      "Sim: cosine, K: 20, User-Based: True, RMSE: 0.9484158391792962, MSE: 0.89960376208683\n",
      "Computing the cosine similarity matrix...\n",
      "Done computing similarity matrix.\n",
      "Computing the cosine similarity matrix...\n",
      "Done computing similarity matrix.\n",
      "Computing the cosine similarity matrix...\n",
      "Done computing similarity matrix.\n",
      "Sim: cosine, K: 20, User-Based: False, RMSE: 0.9482812025817285, MSE: 0.9022155918187799\n",
      "Computing the pearson similarity matrix...\n",
      "Done computing similarity matrix.\n",
      "Computing the pearson similarity matrix...\n",
      "Done computing similarity matrix.\n",
      "Computing the pearson similarity matrix...\n",
      "Done computing similarity matrix.\n",
      "Sim: pearson, K: 5, User-Based: True, RMSE: 0.9484812430932769, MSE: 0.8999145925062257\n",
      "Computing the pearson similarity matrix...\n",
      "Done computing similarity matrix.\n",
      "Computing the pearson similarity matrix...\n",
      "Done computing similarity matrix.\n",
      "Computing the pearson similarity matrix...\n",
      "Done computing similarity matrix.\n",
      "Sim: pearson, K: 5, User-Based: False, RMSE: 0.9481065907275803, MSE: 0.9007666698716256\n",
      "Computing the pearson similarity matrix...\n",
      "Done computing similarity matrix.\n",
      "Computing the pearson similarity matrix...\n",
      "Done computing similarity matrix.\n",
      "Computing the pearson similarity matrix...\n",
      "Done computing similarity matrix.\n",
      "Sim: pearson, K: 10, User-Based: True, RMSE: 0.9491405232018986, MSE: 0.9012160828605719\n",
      "Computing the pearson similarity matrix...\n",
      "Done computing similarity matrix.\n",
      "Computing the pearson similarity matrix...\n",
      "Done computing similarity matrix.\n",
      "Computing the pearson similarity matrix...\n",
      "Done computing similarity matrix.\n",
      "Sim: pearson, K: 10, User-Based: False, RMSE: 0.9484063136568374, MSE: 0.90385260725726\n",
      "Computing the pearson similarity matrix...\n",
      "Done computing similarity matrix.\n",
      "Computing the pearson similarity matrix...\n",
      "Done computing similarity matrix.\n",
      "Computing the pearson similarity matrix...\n",
      "Done computing similarity matrix.\n",
      "Sim: pearson, K: 20, User-Based: True, RMSE: 0.9479216425957556, MSE: 0.8999826944359909\n",
      "Computing the pearson similarity matrix...\n",
      "Done computing similarity matrix.\n",
      "Computing the pearson similarity matrix...\n",
      "Done computing similarity matrix.\n",
      "Computing the pearson similarity matrix...\n",
      "Done computing similarity matrix.\n",
      "Sim: pearson, K: 20, User-Based: False, RMSE: 0.9467902865431294, MSE: 0.9019798551428492\n",
      "Estimating biases using als...\n",
      "Computing the pearson_baseline similarity matrix...\n",
      "Done computing similarity matrix.\n",
      "Estimating biases using als...\n",
      "Computing the pearson_baseline similarity matrix...\n",
      "Done computing similarity matrix.\n",
      "Estimating biases using als...\n",
      "Computing the pearson_baseline similarity matrix...\n",
      "Done computing similarity matrix.\n",
      "Sim: pearson_baseline, K: 5, User-Based: True, RMSE: 0.9482760393286238, MSE: 0.8995514950334962\n",
      "Estimating biases using als...\n",
      "Computing the pearson_baseline similarity matrix...\n",
      "Done computing similarity matrix.\n",
      "Estimating biases using als...\n",
      "Computing the pearson_baseline similarity matrix...\n",
      "Done computing similarity matrix.\n",
      "Estimating biases using als...\n",
      "Computing the pearson_baseline similarity matrix...\n",
      "Done computing similarity matrix.\n",
      "Sim: pearson_baseline, K: 5, User-Based: False, RMSE: 0.9491815573029778, MSE: 0.9082247633620776\n",
      "Estimating biases using als...\n",
      "Computing the pearson_baseline similarity matrix...\n",
      "Done computing similarity matrix.\n",
      "Estimating biases using als...\n",
      "Computing the pearson_baseline similarity matrix...\n",
      "Done computing similarity matrix.\n",
      "Estimating biases using als...\n",
      "Computing the pearson_baseline similarity matrix...\n",
      "Done computing similarity matrix.\n",
      "Sim: pearson_baseline, K: 10, User-Based: True, RMSE: 0.9484157502499403, MSE: 0.9094620600205342\n",
      "Estimating biases using als...\n",
      "Computing the pearson_baseline similarity matrix...\n",
      "Done computing similarity matrix.\n",
      "Estimating biases using als...\n",
      "Computing the pearson_baseline similarity matrix...\n",
      "Done computing similarity matrix.\n",
      "Estimating biases using als...\n",
      "Computing the pearson_baseline similarity matrix...\n",
      "Done computing similarity matrix.\n",
      "Sim: pearson_baseline, K: 10, User-Based: False, RMSE: 0.9479211978494883, MSE: 0.8998361645722031\n",
      "Estimating biases using als...\n",
      "Computing the pearson_baseline similarity matrix...\n",
      "Done computing similarity matrix.\n",
      "Estimating biases using als...\n",
      "Computing the pearson_baseline similarity matrix...\n",
      "Done computing similarity matrix.\n",
      "Estimating biases using als...\n",
      "Computing the pearson_baseline similarity matrix...\n",
      "Done computing similarity matrix.\n",
      "Sim: pearson_baseline, K: 20, User-Based: True, RMSE: 0.9492099298457198, MSE: 0.9012918819981065\n",
      "Estimating biases using als...\n",
      "Computing the pearson_baseline similarity matrix...\n",
      "Done computing similarity matrix.\n",
      "Estimating biases using als...\n",
      "Computing the pearson_baseline similarity matrix...\n",
      "Done computing similarity matrix.\n",
      "Estimating biases using als...\n",
      "Computing the pearson_baseline similarity matrix...\n",
      "Done computing similarity matrix.\n",
      "Sim: pearson_baseline, K: 20, User-Based: False, RMSE: 0.9485563380552641, MSE: 0.9001226214757402\n",
      "Computing the msd similarity matrix...\n",
      "Done computing similarity matrix.\n",
      "Computing the msd similarity matrix...\n",
      "Done computing similarity matrix.\n",
      "Computing the msd similarity matrix...\n",
      "Done computing similarity matrix.\n",
      "Sim: msd, K: 5, User-Based: True, RMSE: 0.9483917671903547, MSE: 0.9000008202205478\n",
      "Computing the msd similarity matrix...\n",
      "Done computing similarity matrix.\n",
      "Computing the msd similarity matrix...\n",
      "Done computing similarity matrix.\n",
      "Computing the msd similarity matrix...\n",
      "Done computing similarity matrix.\n",
      "Sim: msd, K: 5, User-Based: False, RMSE: 0.9474824668528855, MSE: 0.9038453034756028\n",
      "Computing the msd similarity matrix...\n",
      "Done computing similarity matrix.\n",
      "Computing the msd similarity matrix...\n",
      "Done computing similarity matrix.\n",
      "Computing the msd similarity matrix...\n",
      "Done computing similarity matrix.\n",
      "Sim: msd, K: 10, User-Based: True, RMSE: 0.9485069152149662, MSE: 0.900162133690932\n",
      "Computing the msd similarity matrix...\n",
      "Done computing similarity matrix.\n",
      "Computing the msd similarity matrix...\n",
      "Done computing similarity matrix.\n",
      "Computing the msd similarity matrix...\n",
      "Done computing similarity matrix.\n",
      "Sim: msd, K: 10, User-Based: False, RMSE: 0.9470725030645397, MSE: 0.9011251627887885\n",
      "Computing the msd similarity matrix...\n",
      "Done computing similarity matrix.\n",
      "Computing the msd similarity matrix...\n",
      "Done computing similarity matrix.\n",
      "Computing the msd similarity matrix...\n",
      "Done computing similarity matrix.\n",
      "Sim: msd, K: 20, User-Based: True, RMSE: 0.9479959814818762, MSE: 0.9007327545400731\n",
      "Computing the msd similarity matrix...\n",
      "Done computing similarity matrix.\n",
      "Computing the msd similarity matrix...\n",
      "Done computing similarity matrix.\n",
      "Computing the msd similarity matrix...\n",
      "Done computing similarity matrix.\n",
      "Sim: msd, K: 20, User-Based: False, RMSE: 0.9489010905817108, MSE: 0.9007565684228043\n",
      "Best RMSE Configuration: {'similarity': 'pearson', 'k': 20, 'user_based': False} with RMSE: 0.9467902865431294\n",
      "Best MSE Configuration: {'similarity': 'pearson_baseline', 'k': 5, 'user_based': True} with MSE: 0.8995514950334962\n"
     ]
    }
   ],
   "source": [
    "from surprise import Dataset, Reader, KNNBasic\n",
    "from surprise.model_selection import cross_validate\n",
    "import numpy as np\n",
    "\n",
    "# Assume 'rating_matrix' is already defined as your DataFrame\n",
    "reader = Reader(rating_scale=(1, 5))\n",
    "data = Dataset.load_from_df(rating_matrix[['user_id', 'asin', 'rating']], reader)\n",
    "\n",
    "# Define the list of configurations to test\n",
    "sim_options = {\n",
    "    'cosine': {'name': 'cosine'},\n",
    "    'pearson': {'name': 'pearson'},\n",
    "    'pearson_baseline': {'name': 'pearson_baseline'},\n",
    "    'msd': {'name': 'msd'}\n",
    "}\n",
    "k_values = [5, 10, 20]\n",
    "user_item_based = [True, False]\n",
    "\n",
    "best_rmse = float('inf')\n",
    "best_mse = float('inf')\n",
    "best_config_rmse = {}\n",
    "best_config_mse = {}\n",
    "\n",
    "# Test all combinations\n",
    "for sim_name, sim_option in sim_options.items():\n",
    "    for k in k_values:\n",
    "        for user_based in user_item_based:\n",
    "            algo = KNNBasic(sim_options={'name': sim_option['name'], 'user_based': user_based}, k=k)\n",
    "            results = cross_validate(algo, data, measures=['RMSE', 'MSE'], cv=3, verbose=False)\n",
    "            avg_rmse = np.mean(results['test_rmse'])\n",
    "            avg_mse = np.mean(results['test_mse'])\n",
    "\n",
    "            # Track the best RMSE\n",
    "            if avg_rmse < best_rmse:\n",
    "                best_rmse = avg_rmse\n",
    "                best_config_rmse = {'similarity': sim_name, 'k': k, 'user_based': user_based}\n",
    "\n",
    "            # Track the best MSE\n",
    "            if avg_mse < best_mse:\n",
    "                best_mse = avg_mse\n",
    "                best_config_mse = {'similarity': sim_name, 'k': k, 'user_based': user_based}\n",
    "\n",
    "            print(f\"Sim: {sim_name}, K: {k}, User-Based: {user_based}, RMSE: {avg_rmse}, MSE: {avg_mse}\")\n"
   ]
  },
  {
   "cell_type": "code",
   "execution_count": 46,
   "metadata": {},
   "outputs": [
    {
     "name": "stdout",
     "output_type": "stream",
     "text": [
      "Best RMSE Configuration: {'similarity': 'pearson', 'k': 20, 'user_based': False} with RMSE: 0.9467902865431294\n",
      "Best MSE Configuration: {'similarity': 'pearson_baseline', 'k': 5, 'user_based': True} with MSE: 0.8995514950334962\n"
     ]
    }
   ],
   "source": [
    "\n",
    "# Print the best configurations\n",
    "print(\"Best RMSE Configuration:\", best_config_rmse, \"with RMSE:\", best_rmse)\n",
    "print(\"Best MSE Configuration:\", best_config_mse, \"with MSE:\", best_mse)"
   ]
  },
  {
   "cell_type": "markdown",
   "metadata": {
    "id": "KH8CpmZ53849"
   },
   "source": [
    "### 3. Filling della matrice di rating con la configurazione ottimale"
   ]
  },
  {
   "cell_type": "code",
   "execution_count": 47,
   "metadata": {},
   "outputs": [],
   "source": [
    "trainset = data.build_full_trainset()"
   ]
  },
  {
   "cell_type": "code",
   "execution_count": 48,
   "metadata": {},
   "outputs": [],
   "source": [
    "# Configurazione ottimale per RMSE\n",
    "best_sim_option = {\n",
    "    'name': best_config_rmse['similarity'],\n",
    "    'user_based': best_config_rmse['user_based']\n",
    "}"
   ]
  },
  {
   "cell_type": "code",
   "execution_count": 49,
   "metadata": {},
   "outputs": [
    {
     "name": "stdout",
     "output_type": "stream",
     "text": [
      "Computing the pearson similarity matrix...\n",
      "Done computing similarity matrix.\n"
     ]
    },
    {
     "data": {
      "text/plain": [
       "<surprise.prediction_algorithms.knns.KNNBasic at 0x28f30cab010>"
      ]
     },
     "execution_count": 49,
     "metadata": {},
     "output_type": "execute_result"
    }
   ],
   "source": [
    "algo = KNNBasic(sim_options=best_sim_option, k=best_config_rmse['k'])\n",
    "algo.fit(trainset)"
   ]
  },
  {
   "cell_type": "code",
   "execution_count": 51,
   "metadata": {},
   "outputs": [],
   "source": [
    "from surprise import PredictionImpossible\n",
    "\n",
    "# Creazione di una nuova matrice di rating completa\n",
    "full_rating_matrix = rating_matrix.copy()\n",
    "\n",
    "# Trova tutti gli utenti e gli articoli unici nel dataset\n",
    "all_users = rating_matrix['user_id'].unique()\n",
    "all_items = rating_matrix['asin'].unique()\n"
   ]
  },
  {
   "cell_type": "code",
   "execution_count": 53,
   "metadata": {},
   "outputs": [
    {
     "name": "stdout",
     "output_type": "stream",
     "text": [
      "Matrice di rating completata con predizioni.\n"
     ]
    }
   ],
   "source": [
    "# Creare una lista per raccogliere tutte le nuove righe\n",
    "new_rows = []\n",
    "\n",
    "# Predire i rating mancanti\n",
    "for user in all_users:\n",
    "    for item in all_items:\n",
    "        if not ((rating_matrix['user_id'] == user) & (rating_matrix['asin'] == item)).any():\n",
    "            try:\n",
    "                pred = algo.predict(user, item)\n",
    "                new_rows.append({'user_id': user, 'asin': item, 'rating': pred.est})\n",
    "            except PredictionImpossible:\n",
    "                continue\n",
    "\n",
    "# Aggiungere le nuove righe al DataFrame originale\n",
    "if new_rows:\n",
    "    full_rating_matrix = pd.concat([full_rating_matrix, pd.DataFrame(new_rows)], ignore_index=True)\n",
    "\n",
    "print(\"Matrice di rating completata con predizioni.\")"
   ]
  },
  {
   "cell_type": "code",
   "execution_count": 56,
   "metadata": {},
   "outputs": [
    {
     "data": {
      "text/html": [
       "<div>\n",
       "<style scoped>\n",
       "    .dataframe tbody tr th:only-of-type {\n",
       "        vertical-align: middle;\n",
       "    }\n",
       "\n",
       "    .dataframe tbody tr th {\n",
       "        vertical-align: top;\n",
       "    }\n",
       "\n",
       "    .dataframe thead th {\n",
       "        text-align: right;\n",
       "    }\n",
       "</style>\n",
       "<table border=\"1\" class=\"dataframe\">\n",
       "  <thead>\n",
       "    <tr style=\"text-align: right;\">\n",
       "      <th></th>\n",
       "      <th>user_id</th>\n",
       "      <th>asin</th>\n",
       "      <th>rating</th>\n",
       "    </tr>\n",
       "  </thead>\n",
       "  <tbody>\n",
       "    <tr>\n",
       "      <th>0</th>\n",
       "      <td>AFKZENTNBQ7A7V7UXW5JJI6UGRYQ</td>\n",
       "      <td>B09BGPFTDB</td>\n",
       "      <td>1.0</td>\n",
       "    </tr>\n",
       "    <tr>\n",
       "      <th>1</th>\n",
       "      <td>AFKZENTNBQ7A7V7UXW5JJI6UGRYQ</td>\n",
       "      <td>0593235657</td>\n",
       "      <td>5.0</td>\n",
       "    </tr>\n",
       "    <tr>\n",
       "      <th>2</th>\n",
       "      <td>AFKZENTNBQ7A7V7UXW5JJI6UGRYQ</td>\n",
       "      <td>1782490671</td>\n",
       "      <td>5.0</td>\n",
       "    </tr>\n",
       "    <tr>\n",
       "      <th>3</th>\n",
       "      <td>AFKZENTNBQ7A7V7UXW5JJI6UGRYQ</td>\n",
       "      <td>0593138228</td>\n",
       "      <td>5.0</td>\n",
       "    </tr>\n",
       "    <tr>\n",
       "      <th>4</th>\n",
       "      <td>AFKZENTNBQ7A7V7UXW5JJI6UGRYQ</td>\n",
       "      <td>0823098079</td>\n",
       "      <td>5.0</td>\n",
       "    </tr>\n",
       "    <tr>\n",
       "      <th>...</th>\n",
       "      <td>...</td>\n",
       "      <td>...</td>\n",
       "      <td>...</td>\n",
       "    </tr>\n",
       "    <tr>\n",
       "      <th>85</th>\n",
       "      <td>AHSXXZHYMXDRVKC643TJZYQ7XGYA</td>\n",
       "      <td>048648243X</td>\n",
       "      <td>1.0</td>\n",
       "    </tr>\n",
       "    <tr>\n",
       "      <th>86</th>\n",
       "      <td>AH6CATODIVPVUOJEWHRSRCSKAOHA</td>\n",
       "      <td>1592233236</td>\n",
       "      <td>5.0</td>\n",
       "    </tr>\n",
       "    <tr>\n",
       "      <th>87</th>\n",
       "      <td>AH6CATODIVPVUOJEWHRSRCSKAOHA</td>\n",
       "      <td>1454710179</td>\n",
       "      <td>5.0</td>\n",
       "    </tr>\n",
       "    <tr>\n",
       "      <th>88</th>\n",
       "      <td>AH6CATODIVPVUOJEWHRSRCSKAOHA</td>\n",
       "      <td>1592238548</td>\n",
       "      <td>5.0</td>\n",
       "    </tr>\n",
       "    <tr>\n",
       "      <th>89</th>\n",
       "      <td>AH6CATODIVPVUOJEWHRSRCSKAOHA</td>\n",
       "      <td>1879682680</td>\n",
       "      <td>5.0</td>\n",
       "    </tr>\n",
       "  </tbody>\n",
       "</table>\n",
       "<p>90 rows × 3 columns</p>\n",
       "</div>"
      ],
      "text/plain": [
       "                         user_id        asin  rating\n",
       "0   AFKZENTNBQ7A7V7UXW5JJI6UGRYQ  B09BGPFTDB     1.0\n",
       "1   AFKZENTNBQ7A7V7UXW5JJI6UGRYQ  0593235657     5.0\n",
       "2   AFKZENTNBQ7A7V7UXW5JJI6UGRYQ  1782490671     5.0\n",
       "3   AFKZENTNBQ7A7V7UXW5JJI6UGRYQ  0593138228     5.0\n",
       "4   AFKZENTNBQ7A7V7UXW5JJI6UGRYQ  0823098079     5.0\n",
       "..                           ...         ...     ...\n",
       "85  AHSXXZHYMXDRVKC643TJZYQ7XGYA  048648243X     1.0\n",
       "86  AH6CATODIVPVUOJEWHRSRCSKAOHA  1592233236     5.0\n",
       "87  AH6CATODIVPVUOJEWHRSRCSKAOHA  1454710179     5.0\n",
       "88  AH6CATODIVPVUOJEWHRSRCSKAOHA  1592238548     5.0\n",
       "89  AH6CATODIVPVUOJEWHRSRCSKAOHA  1879682680     5.0\n",
       "\n",
       "[90 rows x 3 columns]"
      ]
     },
     "execution_count": 56,
     "metadata": {},
     "output_type": "execute_result"
    }
   ],
   "source": [
    "full_rating_matrix.head(90)"
   ]
  },
  {
   "cell_type": "markdown",
   "metadata": {
    "id": "ZTGpJpbe3849"
   },
   "source": [
    "### 4. Segmentazione degli utenti in base alle preferenze\n",
    "Algoritmo di clustering K-MEANS con cosine similarity."
   ]
  },
  {
   "cell_type": "markdown",
   "metadata": {
    "id": "1hclX80w384-"
   },
   "source": [
    "### 5. Creazione per ogni utente della lista degli n items (top k items) da consigliare\n",
    "(es. considerando il rating predetto)"
   ]
  },
  {
   "cell_type": "markdown",
   "metadata": {
    "id": "7Ds4ae3Z384-"
   },
   "source": [
    "### 6. Filling della matrice di rating attraverso Matrix Factorization in aggiunta a K-NN e confronto dei risultati ottenuti in termini di MSE e RMSE"
   ]
  },
  {
   "cell_type": "code",
   "execution_count": null,
   "metadata": {
    "id": "84zPbS7_384-"
   },
   "outputs": [],
   "source": []
  }
 ],
 "metadata": {
  "accelerator": "GPU",
  "colab": {
   "gpuType": "T4",
   "provenance": []
  },
  "kernelspec": {
   "display_name": "Python 3 (ipykernel)",
   "language": "python",
   "name": "python3"
  },
  "language_info": {
   "codemirror_mode": {
    "name": "ipython",
    "version": 3
   },
   "file_extension": ".py",
   "mimetype": "text/x-python",
   "name": "python",
   "nbconvert_exporter": "python",
   "pygments_lexer": "ipython3",
   "version": "3.11.7"
  }
 },
 "nbformat": 4,
 "nbformat_minor": 4
}
