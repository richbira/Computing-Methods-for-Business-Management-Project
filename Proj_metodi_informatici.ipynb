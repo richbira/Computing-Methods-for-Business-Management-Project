{
  "cells": [
    {
      "cell_type": "markdown",
      "metadata": {
        "id": "Ex_ClyMS384W"
      },
      "source": [
        "# Progetto di Metodi Informatici per la Gestione Aziendale"
      ]
    },
    {
      "cell_type": "markdown",
      "metadata": {
        "id": "aE16KL50384n"
      },
      "source": [
        "## Progetto base"
      ]
    },
    {
      "cell_type": "code",
      "execution_count": 1,
      "metadata": {
        "id": "vCCnR17X384p"
      },
      "outputs": [],
      "source": [
        "#!pip install pandas\n",
        "import pandas as pd\n",
        "import os"
      ]
    },
    {
      "cell_type": "markdown",
      "metadata": {
        "id": "oRveryNz384s"
      },
      "source": [
        "Importazione del dataset delle review:"
      ]
    },
    {
      "cell_type": "code",
      "execution_count": 2,
      "metadata": {
        "colab": {
          "base_uri": "https://localhost:8080/",
          "height": 338
        },
        "id": "jbc4VVYX384t",
        "outputId": "f84c0b94-f02f-42c4-ed1d-fea797e6b1c8"
      },
      "outputs": [],
      "source": [
        "import json\n",
        "\n",
        "data = []\n",
        "pwd = os.getcwd()\n",
        "if \"Richard\" in pwd:\n",
        "    file_path = '/Users/Richard/Desktop/Books.json'\n",
        "else:\n",
        "    file_path = '/Users/susannamau/Dev/metodi_informatici/Books.jsonl'\n",
        "with open(file_path, 'r') as f:\n",
        "    for i, line in enumerate(f):\n",
        "        if i == 1000:\n",
        "            break\n",
        "        data.append(json.loads(line))"
      ]
    },
    {
      "cell_type": "code",
      "execution_count": 3,
      "metadata": {
        "colab": {
          "base_uri": "https://localhost:8080/"
        },
        "id": "vEyuCj-h384v",
        "outputId": "fd14d6c6-dc70-4487-a60a-c90293158cf1"
      },
      "outputs": [
        {
          "data": {
            "text/plain": [
              "[{'rating': 5.0,\n",
              "  'title': 'Updated: after 1st arrived damaged this one is perfect',\n",
              "  'text': 'Updated: after first book arrived very damaged the replacement arrived in perfect condition.',\n",
              "  'images': [],\n",
              "  'asin': '0593235657',\n",
              "  'parent_asin': '0593235657',\n",
              "  'user_id': 'AFKZENTNBQ7A7V7UXW5JJI6UGRYQ',\n",
              "  'timestamp': 1640629604904,\n",
              "  'helpful_vote': 1,\n",
              "  'verified_purchase': True}]"
            ]
          },
          "execution_count": 3,
          "metadata": {},
          "output_type": "execute_result"
        }
      ],
      "source": [
        "data[1:2]"
      ]
    },
    {
      "cell_type": "markdown",
      "metadata": {
        "id": "4UPOqXQd384x"
      },
      "source": [
        "### 1. Analisi esplorativa (statistiche descrittive, analisi correlazione)\n",
        "To perform an exploratory analysis on this dataset, we perform the following steps:\n",
        "\n",
        "* Trasformazione del dataset in un dataframe Pandas,\n",
        "* Controllo delle informazioni di base del dataframe come il numero di righe, di colonne e i tipi delle variabili,\n",
        "* Controllo dei valori mancanti,\n",
        "* Statistiche descrittive delle variabili numeriche (rating e helpful_vote),\n",
        "* Visualizzazione dei dati."
      ]
    },
    {
      "cell_type": "markdown",
      "metadata": {
        "id": "B4M59LDT384y"
      },
      "source": [
        "Trasformazione in un dataframe Pandas:"
      ]
    },
    {
      "cell_type": "code",
      "execution_count": null,
      "metadata": {
        "collapsed": true,
        "id": "u-dvjn8D384z",
        "outputId": "48cf5eef-6368-4002-bf51-79eb7fcaab70"
      },
      "outputs": [
        {
          "data": {
            "text/html": [
              "<div>\n",
              "<style scoped>\n",
              "    .dataframe tbody tr th:only-of-type {\n",
              "        vertical-align: middle;\n",
              "    }\n",
              "\n",
              "    .dataframe tbody tr th {\n",
              "        vertical-align: top;\n",
              "    }\n",
              "\n",
              "    .dataframe thead th {\n",
              "        text-align: right;\n",
              "    }\n",
              "</style>\n",
              "<table border=\"1\" class=\"dataframe\">\n",
              "  <thead>\n",
              "    <tr style=\"text-align: right;\">\n",
              "      <th></th>\n",
              "      <th>rating</th>\n",
              "      <th>title</th>\n",
              "      <th>text</th>\n",
              "      <th>images</th>\n",
              "      <th>asin</th>\n",
              "      <th>parent_asin</th>\n",
              "      <th>user_id</th>\n",
              "      <th>timestamp</th>\n",
              "      <th>helpful_vote</th>\n",
              "      <th>verified_purchase</th>\n",
              "    </tr>\n",
              "  </thead>\n",
              "  <tbody>\n",
              "    <tr>\n",
              "      <th>0</th>\n",
              "      <td>1.0</td>\n",
              "      <td>Not a watercolor book! Seems like copies imo.</td>\n",
              "      <td>It is definitely not a watercolor book.  The p...</td>\n",
              "      <td>[{'small_image_url': 'https://m.media-amazon.c...</td>\n",
              "      <td>B09BGPFTDB</td>\n",
              "      <td>B09BGPFTDB</td>\n",
              "      <td>AFKZENTNBQ7A7V7UXW5JJI6UGRYQ</td>\n",
              "      <td>1642399598485</td>\n",
              "      <td>0</td>\n",
              "      <td>True</td>\n",
              "    </tr>\n",
              "    <tr>\n",
              "      <th>1</th>\n",
              "      <td>5.0</td>\n",
              "      <td>Updated: after 1st arrived damaged this one is...</td>\n",
              "      <td>Updated: after first book arrived very damaged...</td>\n",
              "      <td>[]</td>\n",
              "      <td>0593235657</td>\n",
              "      <td>0593235657</td>\n",
              "      <td>AFKZENTNBQ7A7V7UXW5JJI6UGRYQ</td>\n",
              "      <td>1640629604904</td>\n",
              "      <td>1</td>\n",
              "      <td>True</td>\n",
              "    </tr>\n",
              "    <tr>\n",
              "      <th>2</th>\n",
              "      <td>5.0</td>\n",
              "      <td>Excellent! I love it!</td>\n",
              "      <td>I bought it for the bag on the front so it pai...</td>\n",
              "      <td>[]</td>\n",
              "      <td>1782490671</td>\n",
              "      <td>1782490671</td>\n",
              "      <td>AFKZENTNBQ7A7V7UXW5JJI6UGRYQ</td>\n",
              "      <td>1640383495102</td>\n",
              "      <td>0</td>\n",
              "      <td>True</td>\n",
              "    </tr>\n",
              "    <tr>\n",
              "      <th>3</th>\n",
              "      <td>5.0</td>\n",
              "      <td>Updated after 1st arrived damaged. Excellent</td>\n",
              "      <td>Updated: after 1st arrived damaged the replace...</td>\n",
              "      <td>[]</td>\n",
              "      <td>0593138228</td>\n",
              "      <td>0593138228</td>\n",
              "      <td>AFKZENTNBQ7A7V7UXW5JJI6UGRYQ</td>\n",
              "      <td>1640364906602</td>\n",
              "      <td>0</td>\n",
              "      <td>False</td>\n",
              "    </tr>\n",
              "    <tr>\n",
              "      <th>4</th>\n",
              "      <td>5.0</td>\n",
              "      <td>Beautiful patterns!</td>\n",
              "      <td>I love this book!  The patterns are lovely. I ...</td>\n",
              "      <td>[{'small_image_url': 'https://m.media-amazon.c...</td>\n",
              "      <td>0823098079</td>\n",
              "      <td>0823098079</td>\n",
              "      <td>AFKZENTNBQ7A7V7UXW5JJI6UGRYQ</td>\n",
              "      <td>1637312253230</td>\n",
              "      <td>0</td>\n",
              "      <td>True</td>\n",
              "    </tr>\n",
              "    <tr>\n",
              "      <th>...</th>\n",
              "      <td>...</td>\n",
              "      <td>...</td>\n",
              "      <td>...</td>\n",
              "      <td>...</td>\n",
              "      <td>...</td>\n",
              "      <td>...</td>\n",
              "      <td>...</td>\n",
              "      <td>...</td>\n",
              "      <td>...</td>\n",
              "      <td>...</td>\n",
              "    </tr>\n",
              "    <tr>\n",
              "      <th>995</th>\n",
              "      <td>5.0</td>\n",
              "      <td>A feast for body and soul</td>\n",
              "      <td>Based on Jan Karon's Mitford series, the Mitfo...</td>\n",
              "      <td>[]</td>\n",
              "      <td>B0017HZ0Y6</td>\n",
              "      <td>0670032395</td>\n",
              "      <td>AFW2PDT3AMT4X3PYQG7FJZH5FXFA</td>\n",
              "      <td>1245504975000</td>\n",
              "      <td>16</td>\n",
              "      <td>True</td>\n",
              "    </tr>\n",
              "    <tr>\n",
              "      <th>996</th>\n",
              "      <td>5.0</td>\n",
              "      <td>A beautiful, heartbreaking look at love and lo...</td>\n",
              "      <td>Mahbod Seraji's haunting \"Rooftops of Tehran\" ...</td>\n",
              "      <td>[]</td>\n",
              "      <td>045122681X</td>\n",
              "      <td>045122681X</td>\n",
              "      <td>AFW2PDT3AMT4X3PYQG7FJZH5FXFA</td>\n",
              "      <td>1245501300000</td>\n",
              "      <td>3</td>\n",
              "      <td>False</td>\n",
              "    </tr>\n",
              "    <tr>\n",
              "      <th>997</th>\n",
              "      <td>3.0</td>\n",
              "      <td>A fleeting, delicate tale as light as rosewater</td>\n",
              "      <td>In \"Rosewater and Soda Bread,\" Marsha Mehran's...</td>\n",
              "      <td>[]</td>\n",
              "      <td>081297249X</td>\n",
              "      <td>081297249X</td>\n",
              "      <td>AFW2PDT3AMT4X3PYQG7FJZH5FXFA</td>\n",
              "      <td>1245111599000</td>\n",
              "      <td>2</td>\n",
              "      <td>False</td>\n",
              "    </tr>\n",
              "    <tr>\n",
              "      <th>998</th>\n",
              "      <td>5.0</td>\n",
              "      <td>Hip, quirky, romantic tale of film noir</td>\n",
              "      <td>Ever felt like there's a nagging voice in your...</td>\n",
              "      <td>[]</td>\n",
              "      <td>0425218384</td>\n",
              "      <td>0425218384</td>\n",
              "      <td>AFW2PDT3AMT4X3PYQG7FJZH5FXFA</td>\n",
              "      <td>1244860930000</td>\n",
              "      <td>1</td>\n",
              "      <td>False</td>\n",
              "    </tr>\n",
              "    <tr>\n",
              "      <th>999</th>\n",
              "      <td>4.0</td>\n",
              "      <td>La Dolce Vita  isn't all it's cracked up to be...</td>\n",
              "      <td>Fashion-conscious Kelly expects her study abro...</td>\n",
              "      <td>[]</td>\n",
              "      <td>0142404144</td>\n",
              "      <td>0142404144</td>\n",
              "      <td>AFW2PDT3AMT4X3PYQG7FJZH5FXFA</td>\n",
              "      <td>1243722563000</td>\n",
              "      <td>0</td>\n",
              "      <td>False</td>\n",
              "    </tr>\n",
              "  </tbody>\n",
              "</table>\n",
              "<p>1000 rows × 10 columns</p>\n",
              "</div>"
            ],
            "text/plain": [
              "     rating                                              title  \\\n",
              "0       1.0      Not a watercolor book! Seems like copies imo.   \n",
              "1       5.0  Updated: after 1st arrived damaged this one is...   \n",
              "2       5.0                              Excellent! I love it!   \n",
              "3       5.0       Updated after 1st arrived damaged. Excellent   \n",
              "4       5.0                                Beautiful patterns!   \n",
              "..      ...                                                ...   \n",
              "995     5.0                          A feast for body and soul   \n",
              "996     5.0  A beautiful, heartbreaking look at love and lo...   \n",
              "997     3.0    A fleeting, delicate tale as light as rosewater   \n",
              "998     5.0            Hip, quirky, romantic tale of film noir   \n",
              "999     4.0  La Dolce Vita  isn't all it's cracked up to be...   \n",
              "\n",
              "                                                  text  \\\n",
              "0    It is definitely not a watercolor book.  The p...   \n",
              "1    Updated: after first book arrived very damaged...   \n",
              "2    I bought it for the bag on the front so it pai...   \n",
              "3    Updated: after 1st arrived damaged the replace...   \n",
              "4    I love this book!  The patterns are lovely. I ...   \n",
              "..                                                 ...   \n",
              "995  Based on Jan Karon's Mitford series, the Mitfo...   \n",
              "996  Mahbod Seraji's haunting \"Rooftops of Tehran\" ...   \n",
              "997  In \"Rosewater and Soda Bread,\" Marsha Mehran's...   \n",
              "998  Ever felt like there's a nagging voice in your...   \n",
              "999  Fashion-conscious Kelly expects her study abro...   \n",
              "\n",
              "                                                images        asin  \\\n",
              "0    [{'small_image_url': 'https://m.media-amazon.c...  B09BGPFTDB   \n",
              "1                                                   []  0593235657   \n",
              "2                                                   []  1782490671   \n",
              "3                                                   []  0593138228   \n",
              "4    [{'small_image_url': 'https://m.media-amazon.c...  0823098079   \n",
              "..                                                 ...         ...   \n",
              "995                                                 []  B0017HZ0Y6   \n",
              "996                                                 []  045122681X   \n",
              "997                                                 []  081297249X   \n",
              "998                                                 []  0425218384   \n",
              "999                                                 []  0142404144   \n",
              "\n",
              "    parent_asin                       user_id      timestamp  helpful_vote  \\\n",
              "0    B09BGPFTDB  AFKZENTNBQ7A7V7UXW5JJI6UGRYQ  1642399598485             0   \n",
              "1    0593235657  AFKZENTNBQ7A7V7UXW5JJI6UGRYQ  1640629604904             1   \n",
              "2    1782490671  AFKZENTNBQ7A7V7UXW5JJI6UGRYQ  1640383495102             0   \n",
              "3    0593138228  AFKZENTNBQ7A7V7UXW5JJI6UGRYQ  1640364906602             0   \n",
              "4    0823098079  AFKZENTNBQ7A7V7UXW5JJI6UGRYQ  1637312253230             0   \n",
              "..          ...                           ...            ...           ...   \n",
              "995  0670032395  AFW2PDT3AMT4X3PYQG7FJZH5FXFA  1245504975000            16   \n",
              "996  045122681X  AFW2PDT3AMT4X3PYQG7FJZH5FXFA  1245501300000             3   \n",
              "997  081297249X  AFW2PDT3AMT4X3PYQG7FJZH5FXFA  1245111599000             2   \n",
              "998  0425218384  AFW2PDT3AMT4X3PYQG7FJZH5FXFA  1244860930000             1   \n",
              "999  0142404144  AFW2PDT3AMT4X3PYQG7FJZH5FXFA  1243722563000             0   \n",
              "\n",
              "     verified_purchase  \n",
              "0                 True  \n",
              "1                 True  \n",
              "2                 True  \n",
              "3                False  \n",
              "4                 True  \n",
              "..                 ...  \n",
              "995               True  \n",
              "996              False  \n",
              "997              False  \n",
              "998              False  \n",
              "999              False  \n",
              "\n",
              "[1000 rows x 10 columns]"
            ]
          },
          "execution_count": 10,
          "metadata": {},
          "output_type": "execute_result"
        }
      ],
      "source": [
        "df = pd.DataFrame(data)\n",
        "df.head()\n",
        "df"
      ]
    },
    {
      "cell_type": "markdown",
      "metadata": {
        "id": "RO0drJHY3840"
      },
      "source": [
        "Ho importato le prime 1000 righe perché il file intero era troppo pesante. Ci sono 10 colonne che rappresentano:\n",
        " * Rating (float): rating of the product (from 1.0 to 5.0). It will be transformed in a categorical variable,\n",
        "* Title\t(str) : title of the user review,\n",
        "* Text (str): text body of the user review,\n",
        "* Images (list): images that users post after they have received the product. Each image has different sizes (small, medium, large), represented by the small_image_url, medium_image_url, and large_image_url respectively,\n",
        "* asin (str): ID of the product,\n",
        "* parent_asin (str): parent ID of the product,\n",
        "* user_id (str): ID of the reviewer,\n",
        "* timestamp (int): time of the review (unix time),\n",
        "* verified_purchase (boolean): user purchase verification,\n",
        "* helpful_vote (int): helpful votes of the review."
      ]
    },
    {
      "cell_type": "code",
      "execution_count": null,
      "metadata": {
        "colab": {
          "base_uri": "https://localhost:8080/",
          "height": 141
        },
        "id": "0QbZiLMa3841",
        "outputId": "06835184-22e9-4ce6-e984-08dba513ab0c"
      },
      "outputs": [
        {
          "ename": "NameError",
          "evalue": "name 'df' is not defined",
          "output_type": "error",
          "traceback": [
            "\u001b[0;31m---------------------------------------------------------------------------\u001b[0m",
            "\u001b[0;31mNameError\u001b[0m                                 Traceback (most recent call last)",
            "\u001b[0;32m<ipython-input-1-35e44ad9fac4>\u001b[0m in \u001b[0;36m<cell line: 1>\u001b[0;34m()\u001b[0m\n\u001b[0;32m----> 1\u001b[0;31m \u001b[0mdf\u001b[0m\u001b[0;34m[\u001b[0m\u001b[0;34m'rating'\u001b[0m\u001b[0;34m]\u001b[0m \u001b[0;34m=\u001b[0m \u001b[0mdf\u001b[0m\u001b[0;34m[\u001b[0m\u001b[0;34m'rating'\u001b[0m\u001b[0;34m]\u001b[0m\u001b[0;34m.\u001b[0m\u001b[0mastype\u001b[0m\u001b[0;34m(\u001b[0m\u001b[0;34m'int'\u001b[0m\u001b[0;34m)\u001b[0m\u001b[0;34m\u001b[0m\u001b[0;34m\u001b[0m\u001b[0m\n\u001b[0m",
            "\u001b[0;31mNameError\u001b[0m: name 'df' is not defined"
          ]
        }
      ],
      "source": [
        "df['rating'] = df['rating'].astype('int')"
      ]
    },
    {
      "cell_type": "markdown",
      "metadata": {
        "id": "Mxqi-Pl-3842"
      },
      "source": [
        "Alcune statistiche descrittive delle variabili numeriche del dataset. Le statistiche descrittive su timestamp sono poco informative a causa della natura della variabile."
      ]
    },
    {
      "cell_type": "code",
      "execution_count": null,
      "metadata": {
        "id": "De-0cUsJ3842",
        "outputId": "ac3070ae-6341-4d4d-90d4-88810717b876"
      },
      "outputs": [
        {
          "data": {
            "text/html": [
              "<div>\n",
              "<style scoped>\n",
              "    .dataframe tbody tr th:only-of-type {\n",
              "        vertical-align: middle;\n",
              "    }\n",
              "\n",
              "    .dataframe tbody tr th {\n",
              "        vertical-align: top;\n",
              "    }\n",
              "\n",
              "    .dataframe thead th {\n",
              "        text-align: right;\n",
              "    }\n",
              "</style>\n",
              "<table border=\"1\" class=\"dataframe\">\n",
              "  <thead>\n",
              "    <tr style=\"text-align: right;\">\n",
              "      <th></th>\n",
              "      <th>rating</th>\n",
              "      <th>timestamp</th>\n",
              "      <th>helpful_vote</th>\n",
              "    </tr>\n",
              "  </thead>\n",
              "  <tbody>\n",
              "    <tr>\n",
              "      <th>count</th>\n",
              "      <td>1000.000000</td>\n",
              "      <td>1.000000e+03</td>\n",
              "      <td>1000.000000</td>\n",
              "    </tr>\n",
              "    <tr>\n",
              "      <th>mean</th>\n",
              "      <td>4.477000</td>\n",
              "      <td>1.477203e+12</td>\n",
              "      <td>4.032000</td>\n",
              "    </tr>\n",
              "    <tr>\n",
              "      <th>std</th>\n",
              "      <td>0.948879</td>\n",
              "      <td>1.116759e+11</td>\n",
              "      <td>15.863563</td>\n",
              "    </tr>\n",
              "    <tr>\n",
              "      <th>min</th>\n",
              "      <td>1.000000</td>\n",
              "      <td>1.129661e+12</td>\n",
              "      <td>0.000000</td>\n",
              "    </tr>\n",
              "    <tr>\n",
              "      <th>25%</th>\n",
              "      <td>4.000000</td>\n",
              "      <td>1.403895e+12</td>\n",
              "      <td>0.000000</td>\n",
              "    </tr>\n",
              "    <tr>\n",
              "      <th>50%</th>\n",
              "      <td>5.000000</td>\n",
              "      <td>1.480937e+12</td>\n",
              "      <td>0.000000</td>\n",
              "    </tr>\n",
              "    <tr>\n",
              "      <th>75%</th>\n",
              "      <td>5.000000</td>\n",
              "      <td>1.561830e+12</td>\n",
              "      <td>2.000000</td>\n",
              "    </tr>\n",
              "    <tr>\n",
              "      <th>max</th>\n",
              "      <td>5.000000</td>\n",
              "      <td>1.678065e+12</td>\n",
              "      <td>330.000000</td>\n",
              "    </tr>\n",
              "  </tbody>\n",
              "</table>\n",
              "</div>"
            ],
            "text/plain": [
              "            rating     timestamp  helpful_vote\n",
              "count  1000.000000  1.000000e+03   1000.000000\n",
              "mean      4.477000  1.477203e+12      4.032000\n",
              "std       0.948879  1.116759e+11     15.863563\n",
              "min       1.000000  1.129661e+12      0.000000\n",
              "25%       4.000000  1.403895e+12      0.000000\n",
              "50%       5.000000  1.480937e+12      0.000000\n",
              "75%       5.000000  1.561830e+12      2.000000\n",
              "max       5.000000  1.678065e+12    330.000000"
            ]
          },
          "execution_count": 34,
          "metadata": {},
          "output_type": "execute_result"
        }
      ],
      "source": [
        "df.describe()"
      ]
    },
    {
      "cell_type": "markdown",
      "metadata": {
        "id": "BFs-aEJI3844"
      },
      "source": [
        "Mentre la variabile rating è molto sbilanciata verso sinistra (più della metà delle osservazioni hanno rating 5), la variabile helpful_vote è molto sbilanciata verso destra (più della metà delle osservazioni hanno valore 0)."
      ]
    },
    {
      "cell_type": "markdown",
      "metadata": {
        "id": "spNnH3P33844"
      },
      "source": [
        "Conteggio di quante reviews ci sono per ogni codice prodotto (asin) e del rating medio:"
      ]
    },
    {
      "cell_type": "code",
      "execution_count": null,
      "metadata": {
        "id": "sJaORB183845",
        "outputId": "d8016f07-5394-495e-ef99-23a09a26c77a"
      },
      "outputs": [
        {
          "data": {
            "text/html": [
              "<div>\n",
              "<style scoped>\n",
              "    .dataframe tbody tr th:only-of-type {\n",
              "        vertical-align: middle;\n",
              "    }\n",
              "\n",
              "    .dataframe tbody tr th {\n",
              "        vertical-align: top;\n",
              "    }\n",
              "\n",
              "    .dataframe thead th {\n",
              "        text-align: right;\n",
              "    }\n",
              "</style>\n",
              "<table border=\"1\" class=\"dataframe\">\n",
              "  <thead>\n",
              "    <tr style=\"text-align: right;\">\n",
              "      <th></th>\n",
              "      <th>number_of_reviews</th>\n",
              "      <th>average_rating</th>\n",
              "    </tr>\n",
              "    <tr>\n",
              "      <th>asin</th>\n",
              "      <th></th>\n",
              "      <th></th>\n",
              "    </tr>\n",
              "  </thead>\n",
              "  <tbody>\n",
              "    <tr>\n",
              "      <th>1741799953</th>\n",
              "      <td>2</td>\n",
              "      <td>4.0</td>\n",
              "    </tr>\n",
              "    <tr>\n",
              "      <th>0547636474</th>\n",
              "      <td>2</td>\n",
              "      <td>4.5</td>\n",
              "    </tr>\n",
              "    <tr>\n",
              "      <th>1454710179</th>\n",
              "      <td>2</td>\n",
              "      <td>5.0</td>\n",
              "    </tr>\n",
              "    <tr>\n",
              "      <th>B00K7MCE3C</th>\n",
              "      <td>2</td>\n",
              "      <td>4.5</td>\n",
              "    </tr>\n",
              "    <tr>\n",
              "      <th>1578563232</th>\n",
              "      <td>2</td>\n",
              "      <td>5.0</td>\n",
              "    </tr>\n",
              "  </tbody>\n",
              "</table>\n",
              "</div>"
            ],
            "text/plain": [
              "            number_of_reviews  average_rating\n",
              "asin                                         \n",
              "1741799953                  2             4.0\n",
              "0547636474                  2             4.5\n",
              "1454710179                  2             5.0\n",
              "B00K7MCE3C                  2             4.5\n",
              "1578563232                  2             5.0"
            ]
          },
          "execution_count": 22,
          "metadata": {},
          "output_type": "execute_result"
        }
      ],
      "source": [
        "df_grouped = df.groupby('asin').agg(number_of_reviews = pd.NamedAgg(column='asin', aggfunc='count'),\n",
        "                                    average_rating = pd.NamedAgg(column='rating', aggfunc='mean')).sort_values(by='number_of_reviews', ascending=False)\n",
        "df_grouped.head()"
      ]
    },
    {
      "cell_type": "markdown",
      "metadata": {
        "id": "Bejjlhyl3845"
      },
      "source": [
        "Conteggio dei valori mancanti:"
      ]
    },
    {
      "cell_type": "code",
      "execution_count": null,
      "metadata": {
        "id": "jqSEiD7x3845",
        "outputId": "54a7259e-702e-43e5-dd03-1baf17ed0f7b"
      },
      "outputs": [
        {
          "name": "stdout",
          "output_type": "stream",
          "text": [
            "rating               0\n",
            "title                0\n",
            "text                 0\n",
            "images               0\n",
            "asin                 0\n",
            "parent_asin          0\n",
            "user_id              0\n",
            "timestamp            0\n",
            "helpful_vote         0\n",
            "verified_purchase    0\n",
            "dtype: int64\n"
          ]
        }
      ],
      "source": [
        "missing_values = df.isnull().sum()\n",
        "print(missing_values)"
      ]
    },
    {
      "cell_type": "markdown",
      "metadata": {
        "id": "Hib21bHQ3846"
      },
      "source": [
        "Nelle osservazioni importate non ci sono valori mancanti."
      ]
    },
    {
      "cell_type": "markdown",
      "metadata": {
        "id": "4O6ZTaC93846"
      },
      "source": [
        "Visualizzazione della distribuzione dei ratings:"
      ]
    },
    {
      "cell_type": "code",
      "execution_count": null,
      "metadata": {
        "id": "mMZvsVrk3846",
        "outputId": "34afa713-86c9-4ab2-ad0e-c2dfcd17b27a"
      },
      "outputs": [
        {
          "data": {
            "image/png": "[encoded data removed]",
            "text/plain": [
              "<Figure size 640x480 with 1 Axes>"
            ]
          },
          "metadata": {},
          "output_type": "display_data"
        }
      ],
      "source": [
        "#!pip install seaborn\n",
        "import seaborn as sns\n",
        "import matplotlib.pyplot as plt\n",
        "\n",
        "sns.countplot(x='rating', data=df)\n",
        "plt.title('Distribution of Ratings')\n",
        "plt.xlabel('Rating')\n",
        "plt.ylabel('Frequency')\n",
        "plt.show()"
      ]
    },
    {
      "cell_type": "markdown",
      "metadata": {
        "id": "EJzObCjb3847"
      },
      "source": [
        "La distribuzione dei ratings è asimmetrica negativa: le osservazioni con rating 5 sono molto più frequenti di quelle con punteggi inferiori."
      ]
    },
    {
      "cell_type": "code",
      "execution_count": null,
      "metadata": {
        "id": "6_cPiCXF3847",
        "outputId": "9161d10b-3880-41a8-c4d5-a43cbac70ba0"
      },
      "outputs": [
        {
          "data": {
            "image/png": "[encoded data removed]",
            "text/plain": [
              "<Figure size 640x480 with 1 Axes>"
            ]
          },
          "metadata": {},
          "output_type": "display_data"
        }
      ],
      "source": [
        "sns.countplot(x='helpful_vote', data=df)\n",
        "plt.title('Distribution of Helpful_vote')\n",
        "plt.xlabel('helpful_vote')\n",
        "plt.ylabel('Frequency')\n",
        "plt.show()"
      ]
    },
    {
      "cell_type": "markdown",
      "metadata": {
        "id": "6tz1pQ9z3848"
      },
      "source": [
        "La distribuzione è asimmetrica positiva, con uno sbilanciamento importante verso destra."
      ]
    },
    {
      "cell_type": "markdown",
      "metadata": {
        "id": "B7Co3BWg3848"
      },
      "source": [
        "### 2. Identificazione della configurazione ottimale dell’algoritmo K-NN per la predizione dei rating\n",
        "In questo punto dovranno quindi essere testate le diverse combinazioni: similarità, valore di K, user/item based. Tramite le diverse metriche di performance (MSE e RMSE) individuare di conseguenza la configurazione ottimale."
      ]
    },
    {
      "cell_type": "code",
      "execution_count": null,
      "metadata": {
        "id": "h6DrbOOl3849",
        "outputId": "d197791d-2ccc-4121-a7c4-ced7ce0063f7"
      },
      "outputs": [
        {
          "ename": "TypeError",
          "evalue": "Singleton array array(<surprise.trainset.Trainset object at 0x16b9ab220>, dtype=object) cannot be considered a valid collection.",
          "output_type": "error",
          "traceback": [
            "\u001b[0;31m---------------------------------------------------------------------------\u001b[0m",
            "\u001b[0;31mTypeError\u001b[0m                                 Traceback (most recent call last)",
            "Cell \u001b[0;32mIn[49], line 16\u001b[0m\n\u001b[1;32m     14\u001b[0m \u001b[38;5;66;03m# Assuming 'df' is your DataFrame and it has columns 'user_id', 'asin' (for item id), and 'rating'\u001b[39;00m\n\u001b[1;32m     15\u001b[0m gs \u001b[38;5;241m=\u001b[39m GridSearchCV(KNNBasic, param_grid, scoring\u001b[38;5;241m=\u001b[39m\u001b[38;5;124m\"\u001b[39m\u001b[38;5;124mneg_mean_squared_error\u001b[39m\u001b[38;5;124m\"\u001b[39m, cv\u001b[38;5;241m=\u001b[39m\u001b[38;5;241m5\u001b[39m)\n\u001b[0;32m---> 16\u001b[0m \u001b[43mgs\u001b[49m\u001b[38;5;241;43m.\u001b[39;49m\u001b[43mfit\u001b[49m\u001b[43m(\u001b[49m\u001b[43mdata\u001b[49m\u001b[38;5;241;43m.\u001b[39;49m\u001b[43mbuild_full_trainset\u001b[49m\u001b[43m(\u001b[49m\u001b[43m)\u001b[49m\u001b[43m)\u001b[49m\n",
            "File \u001b[0;32m~/Dev/python/miniconda3/envs/academy/lib/python3.9/site-packages/sklearn/base.py:1474\u001b[0m, in \u001b[0;36m_fit_context.<locals>.decorator.<locals>.wrapper\u001b[0;34m(estimator, *args, **kwargs)\u001b[0m\n\u001b[1;32m   1467\u001b[0m     estimator\u001b[38;5;241m.\u001b[39m_validate_params()\n\u001b[1;32m   1469\u001b[0m \u001b[38;5;28;01mwith\u001b[39;00m config_context(\n\u001b[1;32m   1470\u001b[0m     skip_parameter_validation\u001b[38;5;241m=\u001b[39m(\n\u001b[1;32m   1471\u001b[0m         prefer_skip_nested_validation \u001b[38;5;129;01mor\u001b[39;00m global_skip_validation\n\u001b[1;32m   1472\u001b[0m     )\n\u001b[1;32m   1473\u001b[0m ):\n\u001b[0;32m-> 1474\u001b[0m     \u001b[38;5;28;01mreturn\u001b[39;00m \u001b[43mfit_method\u001b[49m\u001b[43m(\u001b[49m\u001b[43mestimator\u001b[49m\u001b[43m,\u001b[49m\u001b[43m \u001b[49m\u001b[38;5;241;43m*\u001b[39;49m\u001b[43margs\u001b[49m\u001b[43m,\u001b[49m\u001b[43m \u001b[49m\u001b[38;5;241;43m*\u001b[39;49m\u001b[38;5;241;43m*\u001b[39;49m\u001b[43mkwargs\u001b[49m\u001b[43m)\u001b[49m\n",
            "File \u001b[0;32m~/Dev/python/miniconda3/envs/academy/lib/python3.9/site-packages/sklearn/model_selection/_search.py:874\u001b[0m, in \u001b[0;36mBaseSearchCV.fit\u001b[0;34m(self, X, y, **params)\u001b[0m\n\u001b[1;32m    869\u001b[0m \u001b[38;5;66;03m# Here we keep a dict of scorers as is, and only convert to a\u001b[39;00m\n\u001b[1;32m    870\u001b[0m \u001b[38;5;66;03m# _MultimetricScorer at a later stage. Issue:\u001b[39;00m\n\u001b[1;32m    871\u001b[0m \u001b[38;5;66;03m# https://github.com/scikit-learn/scikit-learn/issues/27001\u001b[39;00m\n\u001b[1;32m    872\u001b[0m scorers, refit_metric \u001b[38;5;241m=\u001b[39m \u001b[38;5;28mself\u001b[39m\u001b[38;5;241m.\u001b[39m_get_scorers(convert_multimetric\u001b[38;5;241m=\u001b[39m\u001b[38;5;28;01mFalse\u001b[39;00m)\n\u001b[0;32m--> 874\u001b[0m X, y \u001b[38;5;241m=\u001b[39m \u001b[43mindexable\u001b[49m\u001b[43m(\u001b[49m\u001b[43mX\u001b[49m\u001b[43m,\u001b[49m\u001b[43m \u001b[49m\u001b[43my\u001b[49m\u001b[43m)\u001b[49m\n\u001b[1;32m    875\u001b[0m params \u001b[38;5;241m=\u001b[39m _check_method_params(X, params\u001b[38;5;241m=\u001b[39mparams)\n\u001b[1;32m    877\u001b[0m routed_params \u001b[38;5;241m=\u001b[39m \u001b[38;5;28mself\u001b[39m\u001b[38;5;241m.\u001b[39m_get_routed_params_for_fit(params)\n",
            "File \u001b[0;32m~/Dev/python/miniconda3/envs/academy/lib/python3.9/site-packages/sklearn/utils/validation.py:514\u001b[0m, in \u001b[0;36mindexable\u001b[0;34m(*iterables)\u001b[0m\n\u001b[1;32m    484\u001b[0m \u001b[38;5;250m\u001b[39m\u001b[38;5;124;03m\"\"\"Make arrays indexable for cross-validation.\u001b[39;00m\n\u001b[1;32m    485\u001b[0m \n\u001b[1;32m    486\u001b[0m \u001b[38;5;124;03mChecks consistent length, passes through None, and ensures that everything\u001b[39;00m\n\u001b[0;32m   (...)\u001b[0m\n\u001b[1;32m    510\u001b[0m \u001b[38;5;124;03m[[1, 2, 3], array([2, 3, 4]), None, <3x1 sparse matrix ...>]\u001b[39;00m\n\u001b[1;32m    511\u001b[0m \u001b[38;5;124;03m\"\"\"\u001b[39;00m\n\u001b[1;32m    513\u001b[0m result \u001b[38;5;241m=\u001b[39m [_make_indexable(X) \u001b[38;5;28;01mfor\u001b[39;00m X \u001b[38;5;129;01min\u001b[39;00m iterables]\n\u001b[0;32m--> 514\u001b[0m \u001b[43mcheck_consistent_length\u001b[49m\u001b[43m(\u001b[49m\u001b[38;5;241;43m*\u001b[39;49m\u001b[43mresult\u001b[49m\u001b[43m)\u001b[49m\n\u001b[1;32m    515\u001b[0m \u001b[38;5;28;01mreturn\u001b[39;00m result\n",
            "File \u001b[0;32m~/Dev/python/miniconda3/envs/academy/lib/python3.9/site-packages/sklearn/utils/validation.py:454\u001b[0m, in \u001b[0;36mcheck_consistent_length\u001b[0;34m(*arrays)\u001b[0m\n\u001b[1;32m    436\u001b[0m \u001b[38;5;28;01mdef\u001b[39;00m \u001b[38;5;21mcheck_consistent_length\u001b[39m(\u001b[38;5;241m*\u001b[39marrays):\n\u001b[1;32m    437\u001b[0m \u001b[38;5;250m    \u001b[39m\u001b[38;5;124;03m\"\"\"Check that all arrays have consistent first dimensions.\u001b[39;00m\n\u001b[1;32m    438\u001b[0m \n\u001b[1;32m    439\u001b[0m \u001b[38;5;124;03m    Checks whether all objects in arrays have the same shape or length.\u001b[39;00m\n\u001b[0;32m   (...)\u001b[0m\n\u001b[1;32m    451\u001b[0m \u001b[38;5;124;03m    >>> check_consistent_length(a, b)\u001b[39;00m\n\u001b[1;32m    452\u001b[0m \u001b[38;5;124;03m    \"\"\"\u001b[39;00m\n\u001b[0;32m--> 454\u001b[0m     lengths \u001b[38;5;241m=\u001b[39m [_num_samples(X) \u001b[38;5;28;01mfor\u001b[39;00m X \u001b[38;5;129;01min\u001b[39;00m arrays \u001b[38;5;28;01mif\u001b[39;00m X \u001b[38;5;129;01mis\u001b[39;00m \u001b[38;5;129;01mnot\u001b[39;00m \u001b[38;5;28;01mNone\u001b[39;00m]\n\u001b[1;32m    455\u001b[0m     uniques \u001b[38;5;241m=\u001b[39m np\u001b[38;5;241m.\u001b[39munique(lengths)\n\u001b[1;32m    456\u001b[0m     \u001b[38;5;28;01mif\u001b[39;00m \u001b[38;5;28mlen\u001b[39m(uniques) \u001b[38;5;241m>\u001b[39m \u001b[38;5;241m1\u001b[39m:\n",
            "File \u001b[0;32m~/Dev/python/miniconda3/envs/academy/lib/python3.9/site-packages/sklearn/utils/validation.py:454\u001b[0m, in \u001b[0;36m<listcomp>\u001b[0;34m(.0)\u001b[0m\n\u001b[1;32m    436\u001b[0m \u001b[38;5;28;01mdef\u001b[39;00m \u001b[38;5;21mcheck_consistent_length\u001b[39m(\u001b[38;5;241m*\u001b[39marrays):\n\u001b[1;32m    437\u001b[0m \u001b[38;5;250m    \u001b[39m\u001b[38;5;124;03m\"\"\"Check that all arrays have consistent first dimensions.\u001b[39;00m\n\u001b[1;32m    438\u001b[0m \n\u001b[1;32m    439\u001b[0m \u001b[38;5;124;03m    Checks whether all objects in arrays have the same shape or length.\u001b[39;00m\n\u001b[0;32m   (...)\u001b[0m\n\u001b[1;32m    451\u001b[0m \u001b[38;5;124;03m    >>> check_consistent_length(a, b)\u001b[39;00m\n\u001b[1;32m    452\u001b[0m \u001b[38;5;124;03m    \"\"\"\u001b[39;00m\n\u001b[0;32m--> 454\u001b[0m     lengths \u001b[38;5;241m=\u001b[39m [\u001b[43m_num_samples\u001b[49m\u001b[43m(\u001b[49m\u001b[43mX\u001b[49m\u001b[43m)\u001b[49m \u001b[38;5;28;01mfor\u001b[39;00m X \u001b[38;5;129;01min\u001b[39;00m arrays \u001b[38;5;28;01mif\u001b[39;00m X \u001b[38;5;129;01mis\u001b[39;00m \u001b[38;5;129;01mnot\u001b[39;00m \u001b[38;5;28;01mNone\u001b[39;00m]\n\u001b[1;32m    455\u001b[0m     uniques \u001b[38;5;241m=\u001b[39m np\u001b[38;5;241m.\u001b[39munique(lengths)\n\u001b[1;32m    456\u001b[0m     \u001b[38;5;28;01mif\u001b[39;00m \u001b[38;5;28mlen\u001b[39m(uniques) \u001b[38;5;241m>\u001b[39m \u001b[38;5;241m1\u001b[39m:\n",
            "File \u001b[0;32m~/Dev/python/miniconda3/envs/academy/lib/python3.9/site-packages/sklearn/utils/validation.py:382\u001b[0m, in \u001b[0;36m_num_samples\u001b[0;34m(x)\u001b[0m\n\u001b[1;32m    380\u001b[0m \u001b[38;5;28;01mif\u001b[39;00m \u001b[38;5;28mhasattr\u001b[39m(x, \u001b[38;5;124m\"\u001b[39m\u001b[38;5;124mshape\u001b[39m\u001b[38;5;124m\"\u001b[39m) \u001b[38;5;129;01mand\u001b[39;00m x\u001b[38;5;241m.\u001b[39mshape \u001b[38;5;129;01mis\u001b[39;00m \u001b[38;5;129;01mnot\u001b[39;00m \u001b[38;5;28;01mNone\u001b[39;00m:\n\u001b[1;32m    381\u001b[0m     \u001b[38;5;28;01mif\u001b[39;00m \u001b[38;5;28mlen\u001b[39m(x\u001b[38;5;241m.\u001b[39mshape) \u001b[38;5;241m==\u001b[39m \u001b[38;5;241m0\u001b[39m:\n\u001b[0;32m--> 382\u001b[0m         \u001b[38;5;28;01mraise\u001b[39;00m \u001b[38;5;167;01mTypeError\u001b[39;00m(\n\u001b[1;32m    383\u001b[0m             \u001b[38;5;124m\"\u001b[39m\u001b[38;5;124mSingleton array \u001b[39m\u001b[38;5;132;01m%r\u001b[39;00m\u001b[38;5;124m cannot be considered a valid collection.\u001b[39m\u001b[38;5;124m\"\u001b[39m \u001b[38;5;241m%\u001b[39m x\n\u001b[1;32m    384\u001b[0m         )\n\u001b[1;32m    385\u001b[0m     \u001b[38;5;66;03m# Check that shape is returning an integer or default to len\u001b[39;00m\n\u001b[1;32m    386\u001b[0m     \u001b[38;5;66;03m# Dask dataframes may not return numeric shape[0] value\u001b[39;00m\n\u001b[1;32m    387\u001b[0m     \u001b[38;5;28;01mif\u001b[39;00m \u001b[38;5;28misinstance\u001b[39m(x\u001b[38;5;241m.\u001b[39mshape[\u001b[38;5;241m0\u001b[39m], numbers\u001b[38;5;241m.\u001b[39mIntegral):\n",
            "\u001b[0;31mTypeError\u001b[0m: Singleton array array(<surprise.trainset.Trainset object at 0x16b9ab220>, dtype=object) cannot be considered a valid collection."
          ]
        }
      ],
      "source": [
        "#!pip install surprise\n",
        "#!pip install scikit-learn\n",
        "from surprise import KNNBasic, Dataset, Reader\n",
        "from sklearn.model_selection import GridSearchCV\n",
        "\n",
        "reader = Reader(rating_scale=(1, 5))\n",
        "data = Dataset.load_from_df(df[['user_id', 'asin', 'rating']], reader)\n",
        "#scoring = {\"MAE\": \"neg_mean_absolute_error\", \"RMSE\": 'neg_root_mean_squared_error', \"MSE\": \"neg_mean_squared_error\"}\n",
        "\n",
        "param_grid = {'k': [10, 20, 30, 40, 50],\n",
        "              'sim_options': {'name': ['msd', 'cosine', 'pearson_baseline'],\n",
        "                              'user_based': [True, False]}}\n",
        "\n",
        "# Assuming 'df' is your DataFrame and it has columns 'user_id', 'asin' (for item id), and 'rating'\n",
        "gs = GridSearchCV(KNNBasic, param_grid, scoring=\"neg_mean_squared_error\", cv=5)\n",
        "gs.fit(data)"
      ]
    },
    {
      "cell_type": "markdown",
      "metadata": {
        "id": "KH8CpmZ53849"
      },
      "source": [
        "### 3. Filling della matrice di rating con la configurazione ottimale"
      ]
    },
    {
      "cell_type": "markdown",
      "metadata": {
        "id": "ZTGpJpbe3849"
      },
      "source": [
        "### 4. Segmentazione degli utenti in base alle preferenze\n",
        "Algoritmo di clustering K-MEANS con cosine similarity."
      ]
    },
    {
      "cell_type": "markdown",
      "metadata": {
        "id": "1hclX80w384-"
      },
      "source": [
        "### 5. Creazione per ogni utente della lista degli n items (top k items) da consigliare\n",
        "(es. considerando il rating predetto)"
      ]
    },
    {
      "cell_type": "markdown",
      "metadata": {
        "id": "7Ds4ae3Z384-"
      },
      "source": [
        "### 6. Filling della matrice di rating attraverso Matrix Factorization in aggiunta a K-NN e confronto dei risultati ottenuti in termini di MSE e RMSE"
      ]
    },
    {
      "cell_type": "code",
      "execution_count": null,
      "metadata": {
        "id": "84zPbS7_384-"
      },
      "outputs": [],
      "source": []
    }
  ],
  "metadata": {
    "accelerator": "GPU",
    "colab": {
      "gpuType": "T4",
      "provenance": []
    },
    "kernelspec": {
      "display_name": "Python 3",
      "name": "python3"
    },
    "language_info": {
      "codemirror_mode": {
        "name": "ipython",
        "version": 3
      },
      "file_extension": ".py",
      "mimetype": "text/x-python",
      "name": "python",
      "nbconvert_exporter": "python",
      "pygments_lexer": "ipython3",
      "version": "3.9.19"
    }
  },
  "nbformat": 4,
  "nbformat_minor": 0
}
